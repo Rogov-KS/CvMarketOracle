{
 "cells": [
  {
   "cell_type": "code",
   "execution_count": null,
   "metadata": {},
   "outputs": [],
   "source": [
    "%load_ext autoreload\n",
    "%autoreload 2"
   ]
  },
  {
   "cell_type": "code",
   "execution_count": null,
   "metadata": {},
   "outputs": [],
   "source": [
    "import os\n",
    "import sys\n",
    "\n",
    "# sys.path.append(os.path.dirname(os.getcwd()))\n",
    "sys.path.append(os.path.dirname(os.path.dirname(os.getcwd())))\n",
    "sys.path"
   ]
  },
  {
   "cell_type": "code",
   "execution_count": null,
   "metadata": {},
   "outputs": [],
   "source": [
    "from dotenv import load_dotenv\n",
    "import os\n",
    "\n",
    "# dotenv_path = \"../.secret_env\"\n",
    "# load_dotenv(dotenv_path=dotenv_path)\n",
    "load_dotenv()\n",
    "\n",
    "T_TOKEN = os.getenv(\"T_TOKEN\")\n",
    "print(T_TOKEN)"
   ]
  },
  {
   "cell_type": "code",
   "execution_count": null,
   "metadata": {},
   "outputs": [],
   "source": [
    "TG_TOKEN = os.getenv(\"TG_TOKEN\")\n",
    "print(TG_TOKEN)"
   ]
  },
  {
   "cell_type": "code",
   "execution_count": null,
   "metadata": {},
   "outputs": [],
   "source": [
    "import matplotlib.pyplot as plt\n",
    "import pandas as pd\n",
    "import numpy as np\n",
    "import torch\n",
    "import torch.nn as nn\n",
    "import torch.optim as optim\n",
    "import plotly.graph_objects as go\n"
   ]
  },
  {
   "cell_type": "code",
   "execution_count": null,
   "metadata": {},
   "outputs": [],
   "source": [
    "from market_oracle_lib import hello\n",
    "from market_oracle_lib.data import t_bank, yfinance, apimoex\n",
    "from market_oracle_lib.data.data_funcs import create_data_loaders, create_data_frames, create_data_sets, RU_DEFAULT_SYMBOLS\n",
    "from help_src.patterns.src import isPivot, calculate_point_pos, collect_channel, refine_channel, visualize_data, calculate_breakout_series, add_pivot_column\n",
    "from help_src.patterns.channel_analysis import analyze_price_channels\n"
   ]
  },
  {
   "cell_type": "markdown",
   "metadata": {},
   "source": [
    "# Ноутбук для дебага алгоритмического распознавания патернов"
   ]
  },
  {
   "cell_type": "markdown",
   "metadata": {},
   "source": [
    "## Пример получения данных"
   ]
  },
  {
   "cell_type": "code",
   "execution_count": null,
   "metadata": {},
   "outputs": [],
   "source": [
    "# train_dl, val_dl, test_dl = create_data_frames(t_bank.get_symbol_data, interval=\"1d\",\n",
    "#                                                token=T_TOKEN,\n",
    "#                                             #    start_date=\"2024-01-01\",\n",
    "#                                             #    end_date=\"2024-09-02\",\n",
    "#                                                symbols=RU_DEFAULT_SYMBOLS)\n",
    "# # train_dl\n",
    "# # next(iter(train_dl))[0].shape, next(iter(train_dl))[1].shape"
   ]
  },
  {
   "cell_type": "code",
   "execution_count": null,
   "metadata": {},
   "outputs": [],
   "source": [
    "# train_dl.head()"
   ]
  },
  {
   "cell_type": "code",
   "execution_count": null,
   "metadata": {},
   "outputs": [],
   "source": [
    "one_sym_ser = t_bank.get_symbol_data(symbol=RU_DEFAULT_SYMBOLS[19], token=T_TOKEN,\n",
    "                                     # start_date=\"2024-01-01\",\n",
    "                                     # end_date=\"2024-09-02\",\n",
    "                                     interval=\"1d\").sort_values(by=\"Date\", ascending=False).sort_values(by=\"Date\", ascending=False)\n",
    "one_sym_ser.head()"
   ]
  },
  {
   "cell_type": "markdown",
   "metadata": {},
   "source": [
    "## Получение списка акций"
   ]
  },
  {
   "cell_type": "code",
   "execution_count": null,
   "metadata": {},
   "outputs": [],
   "source": [
    "# YNDX, POLY\n",
    "ticker = \"T\"\n",
    "instrument_info = t_bank.find_instrument_by_ticker(ticker, T_TOKEN)\n",
    "instrument_info"
   ]
  },
  {
   "cell_type": "code",
   "execution_count": null,
   "metadata": {},
   "outputs": [],
   "source": [
    "from tinkoff.invest import Client\n",
    "\n",
    "with Client(T_TOKEN) as client:\n",
    "    tmp = t_bank._get_instrument_methods(client)[0]\n",
    "    tmp2 = tmp[1]().instruments\n",
    "    tmp3 = list(filter(lambda x: x.country_of_risk == \"RU\", tmp2))\n",
    "    # print(tmp2)"
   ]
  },
  {
   "cell_type": "code",
   "execution_count": null,
   "metadata": {},
   "outputs": [],
   "source": [
    "for share in tmp3:\n",
    "    print(f\"{share.ticker} - {share.name}\")"
   ]
  },
  {
   "cell_type": "markdown",
   "metadata": {},
   "source": [
    "## Работа с данными"
   ]
  },
  {
   "cell_type": "code",
   "execution_count": null,
   "metadata": {},
   "outputs": [],
   "source": [
    "# plt.figure(figsize=(10, 5))\n",
    "# plt.plot(one_sym_ser[\"Date\"], one_sym_ser[\"Close\"])\n",
    "# plt.show()"
   ]
  },
  {
   "cell_type": "code",
   "execution_count": null,
   "metadata": {},
   "outputs": [],
   "source": [
    "tmp_data = one_sym_ser[:1000].sort_values(by=\"Date\", ascending=True)\n",
    "# tmp_data\n",
    "plt.figure(figsize=(10, 5))\n",
    "plt.plot(tmp_data[\"Date\"], tmp_data[\"Close\"])\n",
    "plt.show()"
   ]
  },
  {
   "cell_type": "code",
   "execution_count": null,
   "metadata": {},
   "outputs": [],
   "source": [
    "tmp_data.head()"
   ]
  },
  {
   "cell_type": "code",
   "execution_count": null,
   "metadata": {},
   "outputs": [],
   "source": [
    "window_size = 3 # Как в примере BreakOut_Indicator\n",
    "# tmp_data.loc[:, 'isPivot'] = [isPivot(tmp_data, i, window_size) for i in range(len(tmp_data))]\n",
    "# tmp_data.loc[:, 'pointpos'] = tmp_data.apply(lambda row: calculate_point_pos(row, low_col='Low', high_col='High', pivot_col='isPivot'), axis=1)\n",
    "\n",
    "add_pivot_column(tmp_data, window_size)\n",
    "\n",
    "# Отмечаем пивоты\n",
    "pivot_highs = tmp_data[tmp_data['isPivot'] == 1]\n",
    "pivot_lows = tmp_data[tmp_data['isPivot'] == 2]\n",
    "# Также можно отметить пивоты типа 3, если они важны\n",
    "pivot_both = tmp_data[tmp_data['isPivot'] == 3]\n"
   ]
  },
  {
   "cell_type": "code",
   "execution_count": null,
   "metadata": {},
   "outputs": [],
   "source": [
    "visualize_data(tmp_data,\n",
    "               pivot_highs=pivot_highs,\n",
    "               pivot_lows=pivot_lows,\n",
    "               pivot_both=pivot_both,\n",
    "               candle=100,\n",
    "               backcandles=40,\n",
    "               window=3\n",
    ")\n"
   ]
  },
  {
   "cell_type": "code",
   "execution_count": null,
   "metadata": {},
   "outputs": [],
   "source": [
    "tmp_data[['Open', 'High', 'Low', 'Close', 'isPivot', 'pointpos']].head()\n",
    "# tmp_data"
   ]
  },
  {
   "cell_type": "markdown",
   "metadata": {},
   "source": [
    "### И эксремумы и один жкземпляр ценнового канала"
   ]
  },
  {
   "cell_type": "code",
   "execution_count": null,
   "metadata": {},
   "outputs": [],
   "source": [
    "# Предположим, у вас есть df, candle, backcandles, window\n",
    "df = tmp_data\n",
    "candle = len(df) # Пример\n",
    "backcandles = 200 # Пример\n",
    "window = 3 # Пример\n",
    "\n",
    "# Определяем диапазон для отображения: немного до начала окна анализа и немного после текущей свечи\n",
    "# display_range_start = max(0, candle - backcandles - window - 10)\n",
    "# display_range_end = min(len(df), candle + 20)\n",
    "display_range_start, display_range_end = int(len(df) * (0/4)), len(df)\n",
    "df_display = df.iloc[display_range_start:display_range_end]\n",
    "\n",
    "\n",
    "# Вызываем вашу функцию\n",
    "# sl_lows, interc_lows, sl_highs, interc_highs, r_sq_l, r_sq_h, st_idx, end_idx = collect_channel(df_display, candle, backcandles, window)\n",
    "price_ch = collect_channel(df_display, candle, backcandles, window, should_refine=True)\n",
    "\n",
    "# print(sl_lows, interc_lows, sl_highs, interc_highs, r_sq_l, r_sq_h, st_idx, end_idx)\n",
    "print(price_ch)"
   ]
  },
  {
   "cell_type": "code",
   "execution_count": null,
   "metadata": {},
   "outputs": [],
   "source": [
    "tmp_data\n",
    "pivot_highs\n",
    "pivot_lows\n",
    "pivot_both\n",
    "price_ch"
   ]
  },
  {
   "cell_type": "code",
   "execution_count": null,
   "metadata": {},
   "outputs": [],
   "source": [
    "visualize_data(tmp_data,\n",
    "               pivot_highs=pivot_highs,\n",
    "               pivot_lows=pivot_lows,\n",
    "               pivot_both=pivot_both,\n",
    "               price_ch=price_ch,\n",
    "               candle=100,\n",
    "               backcandles=40,\n",
    "               window=3\n",
    ")\n"
   ]
  },
  {
   "cell_type": "code",
   "execution_count": null,
   "metadata": {},
   "outputs": [],
   "source": [
    "visualize_data(tmp_data,\n",
    "               pivot_highs=pivot_highs,\n",
    "               pivot_lows=pivot_lows,\n",
    "               pivot_both=pivot_both,\n",
    "               price_ch=price_ch,\n",
    "               candle=100,\n",
    "               backcandles=40,\n",
    "               window=3,\n",
    "               do_show=False,\n",
    ")\n"
   ]
  },
  {
   "cell_type": "code",
   "execution_count": null,
   "metadata": {},
   "outputs": [],
   "source": [
    "visualize_data(tmp_data,\n",
    "               pivot_highs=pivot_highs,\n",
    "               pivot_lows=pivot_lows,\n",
    "               pivot_both=pivot_both,\n",
    "               price_ch=price_ch,\n",
    "               candle=100,\n",
    "               backcandles=40,\n",
    "               window=3,\n",
    "               do_show=False,\n",
    "               save_path=\"test.svg\",\n",
    ")\n"
   ]
  },
  {
   "cell_type": "markdown",
   "metadata": {},
   "source": [
    "### считаем пробития"
   ]
  },
  {
   "cell_type": "code",
   "execution_count": null,
   "metadata": {},
   "outputs": [],
   "source": [
    "tmp_price_ch = collect_channel(df_display, candle, backcandles, window, should_refine=True)\n",
    "is_breakout_series = calculate_breakout_series(df_display, tmp_price_ch)\n",
    "# is_breakout_series"
   ]
  },
  {
   "cell_type": "code",
   "execution_count": null,
   "metadata": {},
   "outputs": [],
   "source": [
    "visualize_data(tmp_data,\n",
    "               pivot_highs=pivot_highs,\n",
    "               pivot_lows=pivot_lows,\n",
    "               pivot_both=pivot_both,\n",
    "               price_ch=tmp_price_ch,\n",
    "               candle=100,\n",
    "               backcandles=40,\n",
    "               window=3,\n",
    "               show_breakout=True\n",
    ")\n"
   ]
  },
  {
   "cell_type": "markdown",
   "metadata": {},
   "source": [
    "### перебираем границы для ценового канала"
   ]
  },
  {
   "cell_type": "code",
   "execution_count": null,
   "metadata": {},
   "outputs": [],
   "source": [
    "res = analyze_price_channels(tmp_data, len(tmp_data)-1, window, max_backcandles=100, should_refine=False)"
   ]
  },
  {
   "cell_type": "code",
   "execution_count": null,
   "metadata": {},
   "outputs": [],
   "source": [
    "res[2]\n",
    "len(res)"
   ]
  },
  {
   "cell_type": "code",
   "execution_count": null,
   "metadata": {},
   "outputs": [],
   "source": [
    "from IPython.display import clear_output\n",
    "from time import sleep\n",
    "\n",
    "\n",
    "for i in range(len(res)):\n",
    "    cur_ch = res[-i][\"channel\"]\n",
    "    visualize_data(tmp_data,\n",
    "               pivot_highs=pivot_highs,\n",
    "               pivot_lows=pivot_lows,\n",
    "               pivot_both=pivot_both,\n",
    "               price_ch=cur_ch,\n",
    "            #    price_ch=refined_channel,\n",
    "               candle=100,\n",
    "               backcandles=40,\n",
    "               window=3,\n",
    "               show_breakout=True,\n",
    "\n",
    "    )\n",
    "\n",
    "    clear_output(wait=True)\n",
    "    sleep(0.03)\n"
   ]
  },
  {
   "cell_type": "code",
   "execution_count": null,
   "metadata": {},
   "outputs": [],
   "source": [
    "plt.plot([cur_res['pivot_idx'] for cur_res in res], [cur_res['low_mse'] for cur_res in res])"
   ]
  },
  {
   "cell_type": "markdown",
   "metadata": {},
   "source": [
    "### Рисуем уровни поддержки и сопротивления"
   ]
  },
  {
   "cell_type": "code",
   "execution_count": null,
   "metadata": {},
   "outputs": [],
   "source": [
    "from help_src.src import calculate_support_levels\n",
    "\n",
    "support_levels = calculate_support_levels(tmp_data,\n",
    "                                          static_price_column='Low',\n",
    "                                          static_window_size=50)\n",
    "support_levels['static']\n"
   ]
  },
  {
   "cell_type": "code",
   "execution_count": null,
   "metadata": {},
   "outputs": [],
   "source": [
    "visualize_data(tmp_data,\n",
    "               pivot_highs=pivot_highs,\n",
    "               pivot_lows=pivot_lows,\n",
    "               pivot_both=pivot_both,\n",
    "               candle=100,\n",
    "               backcandles=40,\n",
    "               window=3\n",
    ")\n"
   ]
  },
  {
   "cell_type": "markdown",
   "metadata": {},
   "source": [
    "# Тестируем функции tg_bot"
   ]
  },
  {
   "cell_type": "code",
   "execution_count": null,
   "metadata": {},
   "outputs": [],
   "source": [
    "from help_src.tg_bot.services.advice_service import get_formatted_advice, get_advice_with_price_channel\n",
    "import asyncio\n",
    "\n",
    "\n",
    "# Тестируем get_formatted_advice\n",
    "ticker = \"T\"\n",
    "t_token = T_TOKEN"
   ]
  },
  {
   "cell_type": "code",
   "execution_count": null,
   "metadata": {},
   "outputs": [],
   "source": [
    "await get_advice_with_price_channel(ticker, t_token)"
   ]
  }
 ],
 "metadata": {
  "kernelspec": {
   "display_name": "market_oracle",
   "language": "python",
   "name": "python3"
  },
  "language_info": {
   "codemirror_mode": {
    "name": "ipython",
    "version": 3
   },
   "file_extension": ".py",
   "mimetype": "text/x-python",
   "name": "python",
   "nbconvert_exporter": "python",
   "pygments_lexer": "ipython3",
   "version": "3.12.9"
  }
 },
 "nbformat": 4,
 "nbformat_minor": 2
}
