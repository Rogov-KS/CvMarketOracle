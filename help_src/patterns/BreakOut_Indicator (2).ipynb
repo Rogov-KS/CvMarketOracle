{
  "cells": [
    {
      "cell_type": "markdown",
      "id": "696c10a4",
      "metadata": {
        "id": "696c10a4"
      },
      "source": [
        "# Channel Break Out Detection"
      ]
    },
    {
      "cell_type": "markdown",
      "id": "3362e727",
      "metadata": {
        "id": "3362e727"
      },
      "source": [
        "## Import Data"
      ]
    },
    {
      "cell_type": "code",
      "execution_count": 1,
      "id": "e0c512aa",
      "metadata": {
        "id": "e0c512aa"
      },
      "outputs": [],
      "source": [
        "import pandas as pd\n",
        "import numpy as np\n",
        "import plotly.graph_objects as go\n",
        "from scipy import stats"
      ]
    },
    {
      "cell_type": "code",
      "execution_count": 2,
      "id": "f3ef14db",
      "metadata": {
        "id": "f3ef14db"
      },
      "outputs": [],
      "source": [
        "df = pd.read_csv(\"./EURUSD_Candlestick_1_D_BID_04.05.2003-21.01.2023.csv\")"
      ]
    },
    {
      "cell_type": "markdown",
      "id": "34d9cf7d",
      "metadata": {
        "id": "34d9cf7d"
      },
      "source": [
        "## Detect Pivots/Fractals"
      ]
    },
    {
      "cell_type": "code",
      "execution_count": 3,
      "id": "540f55e6",
      "metadata": {
        "id": "540f55e6"
      },
      "outputs": [],
      "source": [
        "def isPivot(candle, window):\n",
        "    \"\"\"\n",
        "    function that detects if a candle is a pivot/fractal point\n",
        "    args: candle index, window before and after candle to test if pivot\n",
        "    returns: 1 if pivot high, 2 if pivot low, 3 if both and 0 default\n",
        "    \"\"\"\n",
        "    if candle-window < 0 or candle+window >= len(df):\n",
        "        return 0\n",
        "\n",
        "    pivotHigh = 1\n",
        "    pivotLow = 2\n",
        "    for i in range(candle-window, candle+window+1):\n",
        "        if df.iloc[candle].Low > df.iloc[i].Low:\n",
        "            pivotLow=0\n",
        "        if df.iloc[candle].High < df.iloc[i].High:\n",
        "            pivotHigh=0\n",
        "    if (pivotHigh and pivotLow):\n",
        "        return 3\n",
        "    elif pivotHigh:\n",
        "        return pivotHigh\n",
        "    elif pivotLow:\n",
        "        return pivotLow\n",
        "    else:\n",
        "        return 0\n"
      ]
    },
    {
      "cell_type": "code",
      "execution_count": 4,
      "id": "a2dfb53b",
      "metadata": {
        "id": "a2dfb53b"
      },
      "outputs": [],
      "source": [
        "window=3\n",
        "df['isPivot'] = df.apply(lambda x: isPivot(x.name,window), axis=1)"
      ]
    },
    {
      "cell_type": "code",
      "execution_count": 5,
      "id": "c8c29fe7",
      "metadata": {
        "id": "c8c29fe7"
      },
      "outputs": [],
      "source": [
        "def pointpos(x):\n",
        "    if x['isPivot']==2:\n",
        "        return x['Low']-1e-3\n",
        "    elif x['isPivot']==1:\n",
        "        return x['High']+1e-3\n",
        "    else:\n",
        "        return np.nan\n",
        "df['pointpos'] = df.apply(lambda row: pointpos(row), axis=1)"
      ]
    },
    {
      "cell_type": "code",
      "execution_count": 6,
      "id": "ee61bcd1",
      "metadata": {
        "colab": {
          "base_uri": "https://localhost:8080/",
          "height": 542
        },
        "id": "ee61bcd1",
        "outputId": "5172af87-3e90-4b0f-fed2-a8bc3bc493ed"
      },
      "outputs": [
        {
          "data": {
            "application/vnd.plotly.v1+json": {
              "config": {
                "plotlyServerURL": "https://plot.ly"
              },
              "data": [
                {
                  "close": {
                    "bdata": "/ACkNnHy8T9TXFX2XRHyPyyazk4GR/I/f8Fu2LYo8j90RpT2Bl/yP1RXPsvzYPI/VFc+y/Ng8j8ep+hILn/yP69amfBLffI/b/Wc9L5x8j8+6Nms+lzyP0m6ZvLNNvI/IqZEEr2M8j8ipkQSvYzyP2XCL/XzpvI/qmBUUieg8j9McVXZd8XyPwDGM2jon/I/24XmOo208j/GihpMw/DyP8aKGkzD8PI/f03WqIfo8j+4kh0bgfjyPy/APjp15fI/6BN5knTN8j9l/PuMCwfzP7aEfNCz2fI/toR80LPZ8j/i5H6HosDyP5iG4SNiyvI/Z7gBnx/G8j/Ed2LWi6HyPzYf14aK8fI/umbyzTa38j+6ZvLNNrfyP9atnpPet/I/eUDZlCu88j/l7QinBa/yP1ZI+Um1z/I/huY6jbTU8j8HCObo8fvyPwcI5ujx+/I//+cwX14A8z/xETElkujyP9HLKJZb2vI/cLGiBtOw8j/ulA7W/7nyP+PfZ1w4kPI/499nXDiQ8j/wp8ZLN4nyPwpoImx4evI/MPDce7hk8j+FfNCzWXXyP2aIY13cRvI/flcE/1tJ8j9+VwT/W0nyPyyazk4GR/I/dc3km21u8j+syr4rgn/yP6abxCCwcvI/pSxDHOti8j9Q3zKny2LyP1DfMqfLYvI/uMzpsphY8j+wIM1YNB3yPwtGJXUCGvI/3nahuU4j8j94uYjvxCzyP0F9y5wuC/I/QX3LnC4L8j/r/xzmywvyP7gBnx9GCPI/NrBVgsXh8T9mvRjKifbxP2ItPgXA+PE/gnNGlPYG8j+Cc0aU9gbyP64q+64I/vE/GH0FacYi8j8fhetRuB7yP+XyH9JvX/I/7lpCPuhZ8j8niLoPQGryPyeIug9AavI/MPDce7hk8j85KGGm7V/yP671RUJbTvI/gPEMGvon8j8m32xzY/rxP9RgGoaPCPI/1GAaho8I8j8Plxx3SgfyP2ACt+7mKfI/YXE486s58j/B/1ayYyPyP1jKMsSxLvI/n1kSoKYW8j+fWRKgphbyP59ZEqCmFvI/tB8pIsMq8j8=",
                    "dtype": "f8"
                  },
                  "high": {
                    "bdata": "DLCPTl358T8UlnhA2RTyP/xSP28qUvI/tOVciqtK8j+afLPNjWnyP/ZAKzBkdfI/VFc+y/Ng8j/iWBe30YDyP0Z8J2a9mPI/5ujxe5t+8j+/gjRj0XTyP6mkTkATYfI/IqZEEr2M8j8ipkQSvYzyPxkcJa/OsfI/gv+tZMfG8j9lcJS8OsfyP9F0djI4yvI/3jzVITfD8j9u3c1THfLyP8aKGkzD8PI/b/Wc9L7x8j9WZd8Vwf/yPxJOC170FfM/3lm77ULz8j8AV7JjIxDzP5tyhXe5CPM/toR80LPZ8j/S+8bXntnyP8AEbt3N0/I/DkqYafvX8j9eaK7TSMvyP2q8dJMYBPM/xuHMr+YA8z+6ZvLNNrfyPwZkr3d/vPI/e0563/ja8j9iEFg5tMjyP0XY8PRK2fI/wqONI9bi8j+OI9biUwDzPwcI5ujx+/I//+cwX14A8z/bp+MxAxXzP3nMQGX8+/I//cHAc+/h8j/zk2qfjsfyP6Cmlq31xfI/499nXDiQ8j86deWzPI/yP/8+48KBkPI/LA5nfjWH8j+dEaW9wZfyPyuHFtnOd/I/m1Wfq61Y8j9+VwT/W0nyPyNKe4MvTPI/iPTb14Fz8j81tWytL5LyPxn/PuPCgfI/Sl6dY0B28j+k/KTap2PyP1DfMqfLYvI/3zKny2Ji8j8L0oxF01nyP0bT2cngKPI/yXa+nxov8j8LDFnd6jnyPwXdXtIYLfI/QX3LnC4L8j/BqKROQBPyPyxlGeJYF/I/F2U2yCQj8j9kXdxGA/jxP8lZ2NMO//E/2o8UkWEV8j+Cc0aU9gbyP7jpz36kCPI/z2bV52or8j/EzhQ6rzHyP21Wfa62YvI/0jqqmiBq8j9EboYb8HnyPyeIug9AavI/V5V9VwR/8j/MYmLzcW3yP4V80LNZdfI/UaBP5ElS8j92ieqtgS3yP7Hh6ZWyDPI/1GAaho8I8j8d5ssLsA/yPxjshm2LMvI/eUDZlCs88j9I4XoUrkfyP4nvxKwXQ/I/3J212y408j+fWRKgphbyP59ZEqCmFvI/FFysqME08j8=",
                    "dtype": "f8"
                  },
                  "low": {
                    "bdata": "/Bhz1xLy8T8jEK/rF+zxPwwfEVMiCfI/yAc9m1Uf8j+/SGjLuRTyP+uLhLacS/I/VFc+y/Ng8j9UVz7L82DyP1YOLbKdb/I/n82qz9VW8j/UQzS6g1jyP+FdLuI7MfI/46WbxCAw8j8ipkQSvYzyPw5Pr5RliPI/nRGlvcGX8j+sOUAwR4/yP/EuF/GdmPI/9KYiFcaW8j+aCBueXqnyP8aKGkzD8PI/1/oioS3n8j/l8h/Sb9/yP/kx5q4l5PI/J4Oj5NW58j9NSkG3l7TyP9OkFHR7yfI/toR80LPZ8j97oBUYsrryP2uCqPsApPI/pics8YCy8j8jFcYWgpzyP9E/wcWKmvI/xebj2lCx8j+6ZvLNNrfyPzaTb7a5sfI/9kVCW86l8j/whclUwajyPy3saYe/pvI/mnecoiO58j/ZfFwbKsbyPwcI5ujx+/I/Yi0+BcD48j9mZmZmZubyP09AE2HD0/I/1T4djxmo8j9HPUSjO4jyP+3YCMTrevI/499nXDiQ8j9s7BLVW4PyPwxZ3eo5afI/XI/C9Shc8j9rDhDM0WPyP+CcEaW9QfI/IsMq3sg88j9+VwT/W0nyP6HWNO84RfI/QGoTJ/c78j9j7lpCPmjyP/JBz2bVZ/I/mIbhI2JK8j9xj6UPXVDyP1DfMqfLYvI/3qtWJvxS8j+dEaW9wRfyPzMWTWcnA/I/9u6P96oV8j/V52or9hfyP2FUUiegCfI/QX3LnC4L8j8Rx7q4jQbyPwfwFkhQ/PE/DAIrhxbZ8T/zqzlAMMfxP7ecS3FV2fE/HuG04EXf8T+Cc0aU9gbyP69amfBL/fE/Bwjm6PH78T+fceFASBbyP+/+eK9aGfI/9dvXgXNG8j8CK4cW2U7yPyeIug9AavI/Qni0ccRa8j81KQXdXlLyP0ax3NJqSPI/NQwfEVMi8j+GrG71nPTxP+NTAIxn0PE/1GAaho8I8j++wRcmUwXyP20csRafAvI/ER5tHLEW8j/KT6p9Oh7yP+tunuqQG/I/VwT/W8kO8j+fWRKgphbyP59ZEqCmFvI/FD/G3LUE8j8=",
                    "dtype": "f8"
                  },
                  "open": {
                    "bdata": "Lc+Du7P28T9u3c1THfLxP/4ORYE+EfI/EVMiiV5G8j9FuwopPynyP1a3ek56X/I/VFc+y/Ng8j+ppE5AE2HyPxxfe2ZJgPI/BthHp6588j8awFsgQXHyP+mayTfbXPI/g8DKoUU28j8ipkQSvYzyPwYv+grSjPI/Er2MYrml8j8AxjNo6J/yP0yJJHoZxfI/4h5LH7qg8j/APjp15bPyP8aKGkzD8PI/xXJLqyHx8j8PuRluwOfyP0j+YOC59/I/aJYEqKnl8j+Srpl8s83yPy0+BcB4BvM/toR80LPZ8j8MAiuHFtnyP42XbhKDwPI/RYE+kSfJ8j+hvmVOl8XyP4uJzce1ofI/jIS2nEvx8j+6ZvLNNrfyP4F4Xb9gt/I/KxN+qZ+38j9d4V0u4rvyP+cdp+hIrvI/AiuHFtnO8j8VUn5S7dPyPwcI5ujx+/I/XD0nvW/88j/G+ZtQiADzP/ERMSWS6PI/fa62Yn/Z8j//7EeKyLDyP0USvYxiufI/499nXDiQ8j/q501FKozyPw034PPDiPI/Jt9sc2N68j8w2A3bFmXyP7+CNGPRdPI/10y+2eZG8j9+VwT/W0nyP5vmHafoSPI/gv+tZMdG8j+to6oJom7yP8lxp3SwfvI/p8tiYvNx8j+ndLD+z2HyP1DfMqfLYvI/3zKny2Ji8j/y6hwDslfyP1q77UJzHfI/XkvIBz0b8j8z3IDPDyPyP0JD/wQXK/I/QX3LnC4L8j9BfcucLgvyP5fK2xFOC/I/Rz1EozsI8j+ndLD+z+HxP9rJ4Ch59fE/KCfaVUj58T+Cc0aU9gbyP9fAVgkWB/I/6DBfXoD98T9Ty9b6IiHyP5KRs7CnHfI/OShhpu1f8j/woq8gzVjyPyeIug9AavI/WMUbmUd+8j9Ol8XE5mPyP6rU7IFWYPI/WKg1zTtO8j+bIOo+ACnyP2Dl0CLb+fE/1GAaho8I8j/sL7snDwvyP2X8+4wLB/I/KCzxgLIp8j+cvwmFCDjyP6RwPQrXI/I/yqZc4V0u8j+fWRKgphbyP59ZEqCmFvI/qyFxj6UP8j8=",
                    "dtype": "f8"
                  },
                  "type": "candlestick",
                  "x": {
                    "bdata": "AAECAwQFBgcICQoLDA0ODxAREhMUFRYXGBkaGxwdHh8gISIjJCUmJygpKissLS4vMDEyMzQ1Njc4OTo7PD0+P0BBQkNERUZHSElKS0xNTk9QUVJTVFVWV1hZWltcXV5fYGFiYw==",
                    "dtype": "i1"
                  }
                },
                {
                  "marker": {
                    "color": "MediumPurple",
                    "size": 5
                  },
                  "mode": "markers",
                  "name": "pivot",
                  "type": "scatter",
                  "x": {
                    "bdata": "AAECAwQFBgcICQoLDA0ODxAREhMUFRYXGBkaGxwdHh8gISIjJCUmJygpKissLS4vMDEyMzQ1Njc4OTo7PD0+P0BBQkNERUZHSElKS0xNTk9QUVJTVFVWV1hZWltcXV5fYGFiYw==",
                    "dtype": "i1"
                  },
                  "y": {
                    "bdata": "AAAAAAAA+H8AAAAAAAD4fwAAAAAAAPh/AAAAAAAA+H8AAAAAAAD4fwAAAAAAAPh/AAAAAAAA+H8AAAAAAAD4f7A4nPnVnPI/AAAAAAAA+H8AAAAAAAD4fwAAAAAAAPh/eekmMQgs8j8AAAAAAAD4fwAAAAAAAPh/AAAAAAAA+H8AAAAAAAD4fwAAAAAAAPh/AAAAAAAA+H8AAAAAAAD4fwAAAAAAAPh/AAAAAAAA+H8AAAAAAAD4f3wKgPEMGvM/AAAAAAAA+H/jjcwjf7DyPwAAAAAAAPh/AAAAAAAA+H8AAAAAAAD4fwAAAAAAAPh/AAAAAAAA+H8AAAAAAAD4fwAAAAAAAPh/AAAAAAAA+H8AAAAAAAD4fwAAAAAAAPh/jInNx7Wh8j8AAAAAAAD4fwAAAAAAAPh/AAAAAAAA+H8AAAAAAAD4fwAAAAAAAPh/AAAAAAAA+H9FZFjFGxnzPwAAAAAAAPh/AAAAAAAA+H8AAAAAAAD4fwAAAAAAAPh/AAAAAAAA+H8AAAAAAAD4fwAAAAAAAPh/AAAAAAAA+H8HzhlR2pvyPwAAAAAAAPh/AAAAAAAA+H8AAAAAAAD4fwAAAAAAAPh/1q2ek9438j+fceFASJbyPwAAAAAAAPh/AAAAAAAA+H8AAAAAAAD4fwAAAAAAAPh/AAAAAAAA+H8AAAAAAAD4f8lZ2NMO//E/AAAAAAAA+H8AAAAAAAD4fwAAAAAAAPh/AAAAAAAA+H8AAAAAAAD4fwAAAAAAAPh/gSGrWz0n8j+J78SsF8PxPwAAAAAAAPh/AAAAAAAA+H8AAAAAAAD4fwAAAAAAAPh/AAAAAAAA+H8AAAAAAAD4fwAAAAAAAPh/AAAAAAAA+H8AAAAAAAD4fwAAAAAAAPh/wVHy6hyD8j8AAAAAAAD4fwAAAAAAAPh/AAAAAAAA+H8AAAAAAAD4f3mXi/hOzPE/AAAAAAAA+H8AAAAAAAD4fwAAAAAAAPh/AAAAAAAA+H+yne+nxkvyPwAAAAAAAPh/AAAAAAAA+H8AAAAAAAD4fwAAAAAAAPh/fhghPNo48j8=",
                    "dtype": "f8"
                  }
                }
              ],
              "layout": {
                "template": {
                  "data": {
                    "bar": [
                      {
                        "error_x": {
                          "color": "#2a3f5f"
                        },
                        "error_y": {
                          "color": "#2a3f5f"
                        },
                        "marker": {
                          "line": {
                            "color": "#E5ECF6",
                            "width": 0.5
                          },
                          "pattern": {
                            "fillmode": "overlay",
                            "size": 10,
                            "solidity": 0.2
                          }
                        },
                        "type": "bar"
                      }
                    ],
                    "barpolar": [
                      {
                        "marker": {
                          "line": {
                            "color": "#E5ECF6",
                            "width": 0.5
                          },
                          "pattern": {
                            "fillmode": "overlay",
                            "size": 10,
                            "solidity": 0.2
                          }
                        },
                        "type": "barpolar"
                      }
                    ],
                    "carpet": [
                      {
                        "aaxis": {
                          "endlinecolor": "#2a3f5f",
                          "gridcolor": "white",
                          "linecolor": "white",
                          "minorgridcolor": "white",
                          "startlinecolor": "#2a3f5f"
                        },
                        "baxis": {
                          "endlinecolor": "#2a3f5f",
                          "gridcolor": "white",
                          "linecolor": "white",
                          "minorgridcolor": "white",
                          "startlinecolor": "#2a3f5f"
                        },
                        "type": "carpet"
                      }
                    ],
                    "choropleth": [
                      {
                        "colorbar": {
                          "outlinewidth": 0,
                          "ticks": ""
                        },
                        "type": "choropleth"
                      }
                    ],
                    "contour": [
                      {
                        "colorbar": {
                          "outlinewidth": 0,
                          "ticks": ""
                        },
                        "colorscale": [
                          [
                            0,
                            "#0d0887"
                          ],
                          [
                            0.1111111111111111,
                            "#46039f"
                          ],
                          [
                            0.2222222222222222,
                            "#7201a8"
                          ],
                          [
                            0.3333333333333333,
                            "#9c179e"
                          ],
                          [
                            0.4444444444444444,
                            "#bd3786"
                          ],
                          [
                            0.5555555555555556,
                            "#d8576b"
                          ],
                          [
                            0.6666666666666666,
                            "#ed7953"
                          ],
                          [
                            0.7777777777777778,
                            "#fb9f3a"
                          ],
                          [
                            0.8888888888888888,
                            "#fdca26"
                          ],
                          [
                            1,
                            "#f0f921"
                          ]
                        ],
                        "type": "contour"
                      }
                    ],
                    "contourcarpet": [
                      {
                        "colorbar": {
                          "outlinewidth": 0,
                          "ticks": ""
                        },
                        "type": "contourcarpet"
                      }
                    ],
                    "heatmap": [
                      {
                        "colorbar": {
                          "outlinewidth": 0,
                          "ticks": ""
                        },
                        "colorscale": [
                          [
                            0,
                            "#0d0887"
                          ],
                          [
                            0.1111111111111111,
                            "#46039f"
                          ],
                          [
                            0.2222222222222222,
                            "#7201a8"
                          ],
                          [
                            0.3333333333333333,
                            "#9c179e"
                          ],
                          [
                            0.4444444444444444,
                            "#bd3786"
                          ],
                          [
                            0.5555555555555556,
                            "#d8576b"
                          ],
                          [
                            0.6666666666666666,
                            "#ed7953"
                          ],
                          [
                            0.7777777777777778,
                            "#fb9f3a"
                          ],
                          [
                            0.8888888888888888,
                            "#fdca26"
                          ],
                          [
                            1,
                            "#f0f921"
                          ]
                        ],
                        "type": "heatmap"
                      }
                    ],
                    "histogram": [
                      {
                        "marker": {
                          "pattern": {
                            "fillmode": "overlay",
                            "size": 10,
                            "solidity": 0.2
                          }
                        },
                        "type": "histogram"
                      }
                    ],
                    "histogram2d": [
                      {
                        "colorbar": {
                          "outlinewidth": 0,
                          "ticks": ""
                        },
                        "colorscale": [
                          [
                            0,
                            "#0d0887"
                          ],
                          [
                            0.1111111111111111,
                            "#46039f"
                          ],
                          [
                            0.2222222222222222,
                            "#7201a8"
                          ],
                          [
                            0.3333333333333333,
                            "#9c179e"
                          ],
                          [
                            0.4444444444444444,
                            "#bd3786"
                          ],
                          [
                            0.5555555555555556,
                            "#d8576b"
                          ],
                          [
                            0.6666666666666666,
                            "#ed7953"
                          ],
                          [
                            0.7777777777777778,
                            "#fb9f3a"
                          ],
                          [
                            0.8888888888888888,
                            "#fdca26"
                          ],
                          [
                            1,
                            "#f0f921"
                          ]
                        ],
                        "type": "histogram2d"
                      }
                    ],
                    "histogram2dcontour": [
                      {
                        "colorbar": {
                          "outlinewidth": 0,
                          "ticks": ""
                        },
                        "colorscale": [
                          [
                            0,
                            "#0d0887"
                          ],
                          [
                            0.1111111111111111,
                            "#46039f"
                          ],
                          [
                            0.2222222222222222,
                            "#7201a8"
                          ],
                          [
                            0.3333333333333333,
                            "#9c179e"
                          ],
                          [
                            0.4444444444444444,
                            "#bd3786"
                          ],
                          [
                            0.5555555555555556,
                            "#d8576b"
                          ],
                          [
                            0.6666666666666666,
                            "#ed7953"
                          ],
                          [
                            0.7777777777777778,
                            "#fb9f3a"
                          ],
                          [
                            0.8888888888888888,
                            "#fdca26"
                          ],
                          [
                            1,
                            "#f0f921"
                          ]
                        ],
                        "type": "histogram2dcontour"
                      }
                    ],
                    "mesh3d": [
                      {
                        "colorbar": {
                          "outlinewidth": 0,
                          "ticks": ""
                        },
                        "type": "mesh3d"
                      }
                    ],
                    "parcoords": [
                      {
                        "line": {
                          "colorbar": {
                            "outlinewidth": 0,
                            "ticks": ""
                          }
                        },
                        "type": "parcoords"
                      }
                    ],
                    "pie": [
                      {
                        "automargin": true,
                        "type": "pie"
                      }
                    ],
                    "scatter": [
                      {
                        "fillpattern": {
                          "fillmode": "overlay",
                          "size": 10,
                          "solidity": 0.2
                        },
                        "type": "scatter"
                      }
                    ],
                    "scatter3d": [
                      {
                        "line": {
                          "colorbar": {
                            "outlinewidth": 0,
                            "ticks": ""
                          }
                        },
                        "marker": {
                          "colorbar": {
                            "outlinewidth": 0,
                            "ticks": ""
                          }
                        },
                        "type": "scatter3d"
                      }
                    ],
                    "scattercarpet": [
                      {
                        "marker": {
                          "colorbar": {
                            "outlinewidth": 0,
                            "ticks": ""
                          }
                        },
                        "type": "scattercarpet"
                      }
                    ],
                    "scattergeo": [
                      {
                        "marker": {
                          "colorbar": {
                            "outlinewidth": 0,
                            "ticks": ""
                          }
                        },
                        "type": "scattergeo"
                      }
                    ],
                    "scattergl": [
                      {
                        "marker": {
                          "colorbar": {
                            "outlinewidth": 0,
                            "ticks": ""
                          }
                        },
                        "type": "scattergl"
                      }
                    ],
                    "scattermap": [
                      {
                        "marker": {
                          "colorbar": {
                            "outlinewidth": 0,
                            "ticks": ""
                          }
                        },
                        "type": "scattermap"
                      }
                    ],
                    "scattermapbox": [
                      {
                        "marker": {
                          "colorbar": {
                            "outlinewidth": 0,
                            "ticks": ""
                          }
                        },
                        "type": "scattermapbox"
                      }
                    ],
                    "scatterpolar": [
                      {
                        "marker": {
                          "colorbar": {
                            "outlinewidth": 0,
                            "ticks": ""
                          }
                        },
                        "type": "scatterpolar"
                      }
                    ],
                    "scatterpolargl": [
                      {
                        "marker": {
                          "colorbar": {
                            "outlinewidth": 0,
                            "ticks": ""
                          }
                        },
                        "type": "scatterpolargl"
                      }
                    ],
                    "scatterternary": [
                      {
                        "marker": {
                          "colorbar": {
                            "outlinewidth": 0,
                            "ticks": ""
                          }
                        },
                        "type": "scatterternary"
                      }
                    ],
                    "surface": [
                      {
                        "colorbar": {
                          "outlinewidth": 0,
                          "ticks": ""
                        },
                        "colorscale": [
                          [
                            0,
                            "#0d0887"
                          ],
                          [
                            0.1111111111111111,
                            "#46039f"
                          ],
                          [
                            0.2222222222222222,
                            "#7201a8"
                          ],
                          [
                            0.3333333333333333,
                            "#9c179e"
                          ],
                          [
                            0.4444444444444444,
                            "#bd3786"
                          ],
                          [
                            0.5555555555555556,
                            "#d8576b"
                          ],
                          [
                            0.6666666666666666,
                            "#ed7953"
                          ],
                          [
                            0.7777777777777778,
                            "#fb9f3a"
                          ],
                          [
                            0.8888888888888888,
                            "#fdca26"
                          ],
                          [
                            1,
                            "#f0f921"
                          ]
                        ],
                        "type": "surface"
                      }
                    ],
                    "table": [
                      {
                        "cells": {
                          "fill": {
                            "color": "#EBF0F8"
                          },
                          "line": {
                            "color": "white"
                          }
                        },
                        "header": {
                          "fill": {
                            "color": "#C8D4E3"
                          },
                          "line": {
                            "color": "white"
                          }
                        },
                        "type": "table"
                      }
                    ]
                  },
                  "layout": {
                    "annotationdefaults": {
                      "arrowcolor": "#2a3f5f",
                      "arrowhead": 0,
                      "arrowwidth": 1
                    },
                    "autotypenumbers": "strict",
                    "coloraxis": {
                      "colorbar": {
                        "outlinewidth": 0,
                        "ticks": ""
                      }
                    },
                    "colorscale": {
                      "diverging": [
                        [
                          0,
                          "#8e0152"
                        ],
                        [
                          0.1,
                          "#c51b7d"
                        ],
                        [
                          0.2,
                          "#de77ae"
                        ],
                        [
                          0.3,
                          "#f1b6da"
                        ],
                        [
                          0.4,
                          "#fde0ef"
                        ],
                        [
                          0.5,
                          "#f7f7f7"
                        ],
                        [
                          0.6,
                          "#e6f5d0"
                        ],
                        [
                          0.7,
                          "#b8e186"
                        ],
                        [
                          0.8,
                          "#7fbc41"
                        ],
                        [
                          0.9,
                          "#4d9221"
                        ],
                        [
                          1,
                          "#276419"
                        ]
                      ],
                      "sequential": [
                        [
                          0,
                          "#0d0887"
                        ],
                        [
                          0.1111111111111111,
                          "#46039f"
                        ],
                        [
                          0.2222222222222222,
                          "#7201a8"
                        ],
                        [
                          0.3333333333333333,
                          "#9c179e"
                        ],
                        [
                          0.4444444444444444,
                          "#bd3786"
                        ],
                        [
                          0.5555555555555556,
                          "#d8576b"
                        ],
                        [
                          0.6666666666666666,
                          "#ed7953"
                        ],
                        [
                          0.7777777777777778,
                          "#fb9f3a"
                        ],
                        [
                          0.8888888888888888,
                          "#fdca26"
                        ],
                        [
                          1,
                          "#f0f921"
                        ]
                      ],
                      "sequentialminus": [
                        [
                          0,
                          "#0d0887"
                        ],
                        [
                          0.1111111111111111,
                          "#46039f"
                        ],
                        [
                          0.2222222222222222,
                          "#7201a8"
                        ],
                        [
                          0.3333333333333333,
                          "#9c179e"
                        ],
                        [
                          0.4444444444444444,
                          "#bd3786"
                        ],
                        [
                          0.5555555555555556,
                          "#d8576b"
                        ],
                        [
                          0.6666666666666666,
                          "#ed7953"
                        ],
                        [
                          0.7777777777777778,
                          "#fb9f3a"
                        ],
                        [
                          0.8888888888888888,
                          "#fdca26"
                        ],
                        [
                          1,
                          "#f0f921"
                        ]
                      ]
                    },
                    "colorway": [
                      "#636efa",
                      "#EF553B",
                      "#00cc96",
                      "#ab63fa",
                      "#FFA15A",
                      "#19d3f3",
                      "#FF6692",
                      "#B6E880",
                      "#FF97FF",
                      "#FECB52"
                    ],
                    "font": {
                      "color": "#2a3f5f"
                    },
                    "geo": {
                      "bgcolor": "white",
                      "lakecolor": "white",
                      "landcolor": "#E5ECF6",
                      "showlakes": true,
                      "showland": true,
                      "subunitcolor": "white"
                    },
                    "hoverlabel": {
                      "align": "left"
                    },
                    "hovermode": "closest",
                    "mapbox": {
                      "style": "light"
                    },
                    "paper_bgcolor": "white",
                    "plot_bgcolor": "#E5ECF6",
                    "polar": {
                      "angularaxis": {
                        "gridcolor": "white",
                        "linecolor": "white",
                        "ticks": ""
                      },
                      "bgcolor": "#E5ECF6",
                      "radialaxis": {
                        "gridcolor": "white",
                        "linecolor": "white",
                        "ticks": ""
                      }
                    },
                    "scene": {
                      "xaxis": {
                        "backgroundcolor": "#E5ECF6",
                        "gridcolor": "white",
                        "gridwidth": 2,
                        "linecolor": "white",
                        "showbackground": true,
                        "ticks": "",
                        "zerolinecolor": "white"
                      },
                      "yaxis": {
                        "backgroundcolor": "#E5ECF6",
                        "gridcolor": "white",
                        "gridwidth": 2,
                        "linecolor": "white",
                        "showbackground": true,
                        "ticks": "",
                        "zerolinecolor": "white"
                      },
                      "zaxis": {
                        "backgroundcolor": "#E5ECF6",
                        "gridcolor": "white",
                        "gridwidth": 2,
                        "linecolor": "white",
                        "showbackground": true,
                        "ticks": "",
                        "zerolinecolor": "white"
                      }
                    },
                    "shapedefaults": {
                      "line": {
                        "color": "#2a3f5f"
                      }
                    },
                    "ternary": {
                      "aaxis": {
                        "gridcolor": "white",
                        "linecolor": "white",
                        "ticks": ""
                      },
                      "baxis": {
                        "gridcolor": "white",
                        "linecolor": "white",
                        "ticks": ""
                      },
                      "bgcolor": "#E5ECF6",
                      "caxis": {
                        "gridcolor": "white",
                        "linecolor": "white",
                        "ticks": ""
                      }
                    },
                    "title": {
                      "x": 0.05
                    },
                    "xaxis": {
                      "automargin": true,
                      "gridcolor": "white",
                      "linecolor": "white",
                      "ticks": "",
                      "title": {
                        "standoff": 15
                      },
                      "zerolinecolor": "white",
                      "zerolinewidth": 2
                    },
                    "yaxis": {
                      "automargin": true,
                      "gridcolor": "white",
                      "linecolor": "white",
                      "ticks": "",
                      "title": {
                        "standoff": 15
                      },
                      "zerolinecolor": "white",
                      "zerolinewidth": 2
                    }
                  }
                },
                "xaxis": {
                  "rangeslider": {
                    "visible": false
                  }
                }
              }
            }
          },
          "metadata": {},
          "output_type": "display_data"
        }
      ],
      "source": [
        "dfpl = df[0:100]\n",
        "fig = go.Figure(data=[go.Candlestick(x=dfpl.index,\n",
        "                open=dfpl['Open'],\n",
        "                high=dfpl['High'],\n",
        "                low=dfpl['Low'],\n",
        "                close=dfpl['Close'])])\n",
        "\n",
        "fig.add_scatter(x=dfpl.index, y=dfpl['pointpos'], mode=\"markers\",\n",
        "                marker=dict(size=5, color=\"MediumPurple\"),\n",
        "                name=\"pivot\")\n",
        "fig.update_layout(xaxis_rangeslider_visible=False)\n",
        "fig.show()"
      ]
    },
    {
      "cell_type": "markdown",
      "id": "d1079664",
      "metadata": {
        "id": "d1079664"
      },
      "source": [
        "## Detect Price Channel"
      ]
    },
    {
      "cell_type": "code",
      "execution_count": 9,
      "id": "e2a6e303",
      "metadata": {
        "id": "e2a6e303"
      },
      "outputs": [],
      "source": [
        "def collect_channel(candle, backcandles, window):\n",
        "    localdf = df[candle-backcandles-window:candle-window]\n",
        "    localdf['isPivot'] = localdf.apply(lambda x: isPivot(x.name,window), axis=1)\n",
        "    highs = localdf[localdf['isPivot']==1].High.values\n",
        "    idxhighs = localdf[localdf['isPivot']==1].High.index\n",
        "    lows = localdf[localdf['isPivot']==2].Low.values\n",
        "    idxlows = localdf[localdf['isPivot']==2].Low.index\n",
        "\n",
        "    if len(lows)>=2 and len(highs)>=2:\n",
        "        sl_lows, interc_lows, r_value_l, _, _ = stats.linregress(idxlows,lows)\n",
        "        sl_highs, interc_highs, r_value_h, _, _ = stats.linregress(idxhighs,highs)\n",
        "\n",
        "        return(sl_lows, interc_lows, sl_highs, interc_highs, r_value_l**2, r_value_h**2)\n",
        "    elif len(lows)>=2:\n",
        "        sl_lows, interc_lows, r_value_l, _, _ = stats.linregress(idxlows,lows)\n",
        "        return (sl_lows, interc_lows, 0, 0, r_value_l**2, 0)\n",
        "    elif len(highs)>=2:\n",
        "        sl_highs, interc_highs, r_value_h, _, _ = stats.linregress(idxhighs,highs)\n",
        "        return (0, 0, sl_highs, interc_highs, 0, 0, r_value_h**2)\n",
        "    else:\n",
        "        return(0,0,0,0,0,0)\n"
      ]
    },
    {
      "cell_type": "code",
      "execution_count": 10,
      "id": "a1ce04fd",
      "metadata": {},
      "outputs": [],
      "source": [
        "candle = 75\n",
        "backcandles = 40\n",
        "window = 3"
      ]
    },
    {
      "cell_type": "code",
      "execution_count": 11,
      "id": "AWOGNfplTLAa",
      "metadata": {
        "colab": {
          "base_uri": "https://localhost:8080/"
        },
        "id": "AWOGNfplTLAa",
        "outputId": "a1a4d09d-a0e9-460c-875f-f31dfd089477"
      },
      "outputs": [
        {
          "name": "stdout",
          "output_type": "stream",
          "text": [
            "0.9934618656317556\n",
            "0.8685739172605113\n"
          ]
        },
        {
          "name": "stderr",
          "output_type": "stream",
          "text": [
            "/tmp/ipykernel_549211/1638216254.py:3: SettingWithCopyWarning:\n",
            "\n",
            "\n",
            "A value is trying to be set on a copy of a slice from a DataFrame.\n",
            "Try using .loc[row_indexer,col_indexer] = value instead\n",
            "\n",
            "See the caveats in the documentation: https://pandas.pydata.org/pandas-docs/stable/user_guide/indexing.html#returning-a-view-versus-a-copy\n",
            "\n"
          ]
        },
        {
          "data": {
            "text/plain": [
              "array([32, 33, 34, 35, 36, 37, 38, 39, 40, 41, 42, 43, 44, 45, 46, 47, 48,\n",
              "       49, 50, 51, 52, 53, 54, 55, 56, 57, 58, 59, 60, 61, 62, 63, 64, 65,\n",
              "       66, 67, 68, 69, 70, 71, 72, 73, 74, 75])"
            ]
          },
          "execution_count": 11,
          "metadata": {},
          "output_type": "execute_result"
        }
      ],
      "source": [
        "sl_lows, interc_lows, sl_highs, interc_highs, r_sq_l, r_sq_h = collect_channel(candle, backcandles, window)\n",
        "print(r_sq_l)\n",
        "print(r_sq_h)\n",
        "x = np.array(range(candle-backcandles-window, candle+1))\n",
        "x"
      ]
    },
    {
      "cell_type": "code",
      "execution_count": 12,
      "id": "22c06cb2",
      "metadata": {
        "colab": {
          "base_uri": "https://localhost:8080/",
          "height": 698
        },
        "id": "22c06cb2",
        "outputId": "713b0de6-4b95-4e5e-ac9c-661e70ae1860"
      },
      "outputs": [
        {
          "name": "stdout",
          "output_type": "stream",
          "text": [
            "0.9934618656317556 0.8685739172605113\n"
          ]
        },
        {
          "name": "stderr",
          "output_type": "stream",
          "text": [
            "/tmp/ipykernel_549211/1638216254.py:3: SettingWithCopyWarning:\n",
            "\n",
            "\n",
            "A value is trying to be set on a copy of a slice from a DataFrame.\n",
            "Try using .loc[row_indexer,col_indexer] = value instead\n",
            "\n",
            "See the caveats in the documentation: https://pandas.pydata.org/pandas-docs/stable/user_guide/indexing.html#returning-a-view-versus-a-copy\n",
            "\n"
          ]
        },
        {
          "data": {
            "application/vnd.plotly.v1+json": {
              "config": {
                "plotlyServerURL": "https://plot.ly"
              },
              "data": [
                {
                  "close": {
                    "bdata": "/ACkNnHy8T9TXFX2XRHyPyyazk4GR/I/f8Fu2LYo8j90RpT2Bl/yP1RXPsvzYPI/VFc+y/Ng8j8ep+hILn/yP69amfBLffI/b/Wc9L5x8j8+6Nms+lzyP0m6ZvLNNvI/IqZEEr2M8j8ipkQSvYzyP2XCL/XzpvI/qmBUUieg8j9McVXZd8XyPwDGM2jon/I/24XmOo208j/GihpMw/DyP8aKGkzD8PI/f03WqIfo8j+4kh0bgfjyPy/APjp15fI/6BN5knTN8j9l/PuMCwfzP7aEfNCz2fI/toR80LPZ8j/i5H6HosDyP5iG4SNiyvI/Z7gBnx/G8j/Ed2LWi6HyPzYf14aK8fI/umbyzTa38j+6ZvLNNrfyP9atnpPet/I/eUDZlCu88j/l7QinBa/yP1ZI+Um1z/I/huY6jbTU8j8HCObo8fvyPwcI5ujx+/I//+cwX14A8z/xETElkujyP9HLKJZb2vI/cLGiBtOw8j/ulA7W/7nyP+PfZ1w4kPI/499nXDiQ8j/wp8ZLN4nyPwpoImx4evI/MPDce7hk8j+FfNCzWXXyP2aIY13cRvI/flcE/1tJ8j9+VwT/W0nyPyyazk4GR/I/dc3km21u8j+syr4rgn/yP6abxCCwcvI/pSxDHOti8j9Q3zKny2LyP1DfMqfLYvI/uMzpsphY8j+wIM1YNB3yPwtGJXUCGvI/3nahuU4j8j94uYjvxCzyP0F9y5wuC/I/QX3LnC4L8j/r/xzmywvyP7gBnx9GCPI/NrBVgsXh8T9mvRjKifbxP2ItPgXA+PE/gnNGlPYG8j+Cc0aU9gbyP64q+64I/vE/GH0FacYi8j8fhetRuB7yP+XyH9JvX/I/7lpCPuhZ8j8niLoPQGryPyeIug9AavI/MPDce7hk8j85KGGm7V/yP671RUJbTvI/gPEMGvon8j8m32xzY/rxP9RgGoaPCPI/1GAaho8I8j8Plxx3SgfyP2ACt+7mKfI/YXE486s58j/B/1ayYyPyP1jKMsSxLvI/n1kSoKYW8j+fWRKgphbyP59ZEqCmFvI/tB8pIsMq8j8=",
                    "dtype": "f8"
                  },
                  "high": {
                    "bdata": "DLCPTl358T8UlnhA2RTyP/xSP28qUvI/tOVciqtK8j+afLPNjWnyP/ZAKzBkdfI/VFc+y/Ng8j/iWBe30YDyP0Z8J2a9mPI/5ujxe5t+8j+/gjRj0XTyP6mkTkATYfI/IqZEEr2M8j8ipkQSvYzyPxkcJa/OsfI/gv+tZMfG8j9lcJS8OsfyP9F0djI4yvI/3jzVITfD8j9u3c1THfLyP8aKGkzD8PI/b/Wc9L7x8j9WZd8Vwf/yPxJOC170FfM/3lm77ULz8j8AV7JjIxDzP5tyhXe5CPM/toR80LPZ8j/S+8bXntnyP8AEbt3N0/I/DkqYafvX8j9eaK7TSMvyP2q8dJMYBPM/xuHMr+YA8z+6ZvLNNrfyPwZkr3d/vPI/e0563/ja8j9iEFg5tMjyP0XY8PRK2fI/wqONI9bi8j+OI9biUwDzPwcI5ujx+/I//+cwX14A8z/bp+MxAxXzP3nMQGX8+/I//cHAc+/h8j/zk2qfjsfyP6Cmlq31xfI/499nXDiQ8j86deWzPI/yP/8+48KBkPI/LA5nfjWH8j+dEaW9wZfyPyuHFtnOd/I/m1Wfq61Y8j9+VwT/W0nyPyNKe4MvTPI/iPTb14Fz8j81tWytL5LyPxn/PuPCgfI/Sl6dY0B28j+k/KTap2PyP1DfMqfLYvI/3zKny2Ji8j8L0oxF01nyP0bT2cngKPI/yXa+nxov8j8LDFnd6jnyPwXdXtIYLfI/QX3LnC4L8j/BqKROQBPyPyxlGeJYF/I/F2U2yCQj8j9kXdxGA/jxP8lZ2NMO//E/2o8UkWEV8j+Cc0aU9gbyP7jpz36kCPI/z2bV52or8j/EzhQ6rzHyP21Wfa62YvI/0jqqmiBq8j9EboYb8HnyPyeIug9AavI/V5V9VwR/8j/MYmLzcW3yP4V80LNZdfI/UaBP5ElS8j92ieqtgS3yP7Hh6ZWyDPI/1GAaho8I8j8d5ssLsA/yPxjshm2LMvI/eUDZlCs88j9I4XoUrkfyP4nvxKwXQ/I/3J212y408j+fWRKgphbyP59ZEqCmFvI/FFysqME08j8=",
                    "dtype": "f8"
                  },
                  "low": {
                    "bdata": "/Bhz1xLy8T8jEK/rF+zxPwwfEVMiCfI/yAc9m1Uf8j+/SGjLuRTyP+uLhLacS/I/VFc+y/Ng8j9UVz7L82DyP1YOLbKdb/I/n82qz9VW8j/UQzS6g1jyP+FdLuI7MfI/46WbxCAw8j8ipkQSvYzyPw5Pr5RliPI/nRGlvcGX8j+sOUAwR4/yP/EuF/GdmPI/9KYiFcaW8j+aCBueXqnyP8aKGkzD8PI/1/oioS3n8j/l8h/Sb9/yP/kx5q4l5PI/J4Oj5NW58j9NSkG3l7TyP9OkFHR7yfI/toR80LPZ8j97oBUYsrryP2uCqPsApPI/pics8YCy8j8jFcYWgpzyP9E/wcWKmvI/xebj2lCx8j+6ZvLNNrfyPzaTb7a5sfI/9kVCW86l8j/whclUwajyPy3saYe/pvI/mnecoiO58j/ZfFwbKsbyPwcI5ujx+/I/Yi0+BcD48j9mZmZmZubyP09AE2HD0/I/1T4djxmo8j9HPUSjO4jyP+3YCMTrevI/499nXDiQ8j9s7BLVW4PyPwxZ3eo5afI/XI/C9Shc8j9rDhDM0WPyP+CcEaW9QfI/IsMq3sg88j9+VwT/W0nyP6HWNO84RfI/QGoTJ/c78j9j7lpCPmjyP/JBz2bVZ/I/mIbhI2JK8j9xj6UPXVDyP1DfMqfLYvI/3qtWJvxS8j+dEaW9wRfyPzMWTWcnA/I/9u6P96oV8j/V52or9hfyP2FUUiegCfI/QX3LnC4L8j8Rx7q4jQbyPwfwFkhQ/PE/DAIrhxbZ8T/zqzlAMMfxP7ecS3FV2fE/HuG04EXf8T+Cc0aU9gbyP69amfBL/fE/Bwjm6PH78T+fceFASBbyP+/+eK9aGfI/9dvXgXNG8j8CK4cW2U7yPyeIug9AavI/Qni0ccRa8j81KQXdXlLyP0ax3NJqSPI/NQwfEVMi8j+GrG71nPTxP+NTAIxn0PE/1GAaho8I8j++wRcmUwXyP20csRafAvI/ER5tHLEW8j/KT6p9Oh7yP+tunuqQG/I/VwT/W8kO8j+fWRKgphbyP59ZEqCmFvI/FD/G3LUE8j8=",
                    "dtype": "f8"
                  },
                  "open": {
                    "bdata": "Lc+Du7P28T9u3c1THfLxP/4ORYE+EfI/EVMiiV5G8j9FuwopPynyP1a3ek56X/I/VFc+y/Ng8j+ppE5AE2HyPxxfe2ZJgPI/BthHp6588j8awFsgQXHyP+mayTfbXPI/g8DKoUU28j8ipkQSvYzyPwYv+grSjPI/Er2MYrml8j8AxjNo6J/yP0yJJHoZxfI/4h5LH7qg8j/APjp15bPyP8aKGkzD8PI/xXJLqyHx8j8PuRluwOfyP0j+YOC59/I/aJYEqKnl8j+Srpl8s83yPy0+BcB4BvM/toR80LPZ8j8MAiuHFtnyP42XbhKDwPI/RYE+kSfJ8j+hvmVOl8XyP4uJzce1ofI/jIS2nEvx8j+6ZvLNNrfyP4F4Xb9gt/I/KxN+qZ+38j9d4V0u4rvyP+cdp+hIrvI/AiuHFtnO8j8VUn5S7dPyPwcI5ujx+/I/XD0nvW/88j/G+ZtQiADzP/ERMSWS6PI/fa62Yn/Z8j//7EeKyLDyP0USvYxiufI/499nXDiQ8j/q501FKozyPw034PPDiPI/Jt9sc2N68j8w2A3bFmXyP7+CNGPRdPI/10y+2eZG8j9+VwT/W0nyP5vmHafoSPI/gv+tZMdG8j+to6oJom7yP8lxp3SwfvI/p8tiYvNx8j+ndLD+z2HyP1DfMqfLYvI/3zKny2Ji8j/y6hwDslfyP1q77UJzHfI/XkvIBz0b8j8z3IDPDyPyP0JD/wQXK/I/QX3LnC4L8j9BfcucLgvyP5fK2xFOC/I/Rz1EozsI8j+ndLD+z+HxP9rJ4Ch59fE/KCfaVUj58T+Cc0aU9gbyP9fAVgkWB/I/6DBfXoD98T9Ty9b6IiHyP5KRs7CnHfI/OShhpu1f8j/woq8gzVjyPyeIug9AavI/WMUbmUd+8j9Ol8XE5mPyP6rU7IFWYPI/WKg1zTtO8j+bIOo+ACnyP2Dl0CLb+fE/1GAaho8I8j/sL7snDwvyP2X8+4wLB/I/KCzxgLIp8j+cvwmFCDjyP6RwPQrXI/I/yqZc4V0u8j+fWRKgphbyP59ZEqCmFvI/qyFxj6UP8j8=",
                    "dtype": "f8"
                  },
                  "type": "candlestick",
                  "x": {
                    "bdata": "AAECAwQFBgcICQoLDA0ODxAREhMUFRYXGBkaGxwdHh8gISIjJCUmJygpKissLS4vMDEyMzQ1Njc4OTo7PD0+P0BBQkNERUZHSElKS0xNTk9QUVJTVFVWV1hZWltcXV5fYGFiYw==",
                    "dtype": "i1"
                  }
                },
                {
                  "marker": {
                    "color": "MediumPurple",
                    "size": 5
                  },
                  "mode": "markers",
                  "name": "pivot",
                  "type": "scatter",
                  "x": {
                    "bdata": "AAECAwQFBgcICQoLDA0ODxAREhMUFRYXGBkaGxwdHh8gISIjJCUmJygpKissLS4vMDEyMzQ1Njc4OTo7PD0+P0BBQkNERUZHSElKS0xNTk9QUVJTVFVWV1hZWltcXV5fYGFiYw==",
                    "dtype": "i1"
                  },
                  "y": {
                    "bdata": "AAAAAAAA+H8AAAAAAAD4fwAAAAAAAPh/AAAAAAAA+H8AAAAAAAD4fwAAAAAAAPh/AAAAAAAA+H8AAAAAAAD4f7A4nPnVnPI/AAAAAAAA+H8AAAAAAAD4fwAAAAAAAPh/eekmMQgs8j8AAAAAAAD4fwAAAAAAAPh/AAAAAAAA+H8AAAAAAAD4fwAAAAAAAPh/AAAAAAAA+H8AAAAAAAD4fwAAAAAAAPh/AAAAAAAA+H8AAAAAAAD4f3wKgPEMGvM/AAAAAAAA+H/jjcwjf7DyPwAAAAAAAPh/AAAAAAAA+H8AAAAAAAD4fwAAAAAAAPh/AAAAAAAA+H8AAAAAAAD4fwAAAAAAAPh/AAAAAAAA+H8AAAAAAAD4fwAAAAAAAPh/jInNx7Wh8j8AAAAAAAD4fwAAAAAAAPh/AAAAAAAA+H8AAAAAAAD4fwAAAAAAAPh/AAAAAAAA+H9FZFjFGxnzPwAAAAAAAPh/AAAAAAAA+H8AAAAAAAD4fwAAAAAAAPh/AAAAAAAA+H8AAAAAAAD4fwAAAAAAAPh/AAAAAAAA+H8HzhlR2pvyPwAAAAAAAPh/AAAAAAAA+H8AAAAAAAD4fwAAAAAAAPh/1q2ek9438j+fceFASJbyPwAAAAAAAPh/AAAAAAAA+H8AAAAAAAD4fwAAAAAAAPh/AAAAAAAA+H8AAAAAAAD4f8lZ2NMO//E/AAAAAAAA+H8AAAAAAAD4fwAAAAAAAPh/AAAAAAAA+H8AAAAAAAD4fwAAAAAAAPh/gSGrWz0n8j+J78SsF8PxPwAAAAAAAPh/AAAAAAAA+H8AAAAAAAD4fwAAAAAAAPh/AAAAAAAA+H8AAAAAAAD4fwAAAAAAAPh/AAAAAAAA+H8AAAAAAAD4fwAAAAAAAPh/wVHy6hyD8j8AAAAAAAD4fwAAAAAAAPh/AAAAAAAA+H8AAAAAAAD4f3mXi/hOzPE/AAAAAAAA+H8AAAAAAAD4fwAAAAAAAPh/AAAAAAAA+H+yne+nxkvyPwAAAAAAAPh/AAAAAAAA+H8AAAAAAAD4fwAAAAAAAPh/fhghPNo48j8=",
                    "dtype": "f8"
                  }
                },
                {
                  "mode": "lines",
                  "name": "lower slope",
                  "type": "scatter",
                  "x": {
                    "bdata": "ICEiIyQlJicoKSorLC0uLzAxMjM0NTY3ODk6Ozw9Pj9AQUJDREVGR0hJSks=",
                    "dtype": "i1"
                  },
                  "y": {
                    "bdata": "DwCUfda98j+lj/IwWLjyPzofUeTZsvI/0K6vl1ut8j9mPg5L3afyP/vNbP5eovI/kV3LseCc8j8m7SllYpfyP7x8iBjkkfI/Ugzny2WM8j/nm0V/54byP30rpDJpgfI/ErsC5up78j+oSmGZbHbyPz7av0zucPI/02keAHBr8j9p+Xyz8WXyP/6I22ZzYPI/lBg6GvVa8j8qqJjNdlXyP78394D4T/I/VcdVNHpK8j/qVrTn+0TyP4DmEpt9P/I/FnZxTv858j+rBdABgTTyP0GVLrUCL/I/1iSNaIQp8j9stOsbBiTyPwJESs+HHvI/l9OoggkZ8j8tYwc2ixPyP8LyZekMDvI/WILEnI4I8j/uESNQEAPyP4OhgQOS/fE/GTHgthP48T+uwD5qlfLxP0RQnR0X7fE/2t/70Jjn8T9vb1qEGuLxPwX/uDec3PE/mo4X6x3X8T8wHnaen9HxPw==",
                    "dtype": "f8"
                  }
                },
                {
                  "mode": "lines",
                  "name": "max slope",
                  "type": "scatter",
                  "x": {
                    "bdata": "ICEiIyQlJicoKSorLC0uLzAxMjM0NTY3ODk6Ozw9Pj9AQUJDREVGR0hJSks=",
                    "dtype": "i1"
                  },
                  "y": {
                    "bdata": "sAPnjCht8z/tCR7HBmTzPyoQVQHlWvM/ZxaMO8NR8z+kHMN1oUjzP+Ii+q9/P/M/Hykx6l028z9cL2gkPC3zP5k1n14aJPM/1jvWmPga8z8TQg3T1hHzP1BIRA21CPM/jU57R5P/8j/LVLKBcfbyPwhb6btP7fI/RWEg9i3k8j+CZ1cwDNvyP79tjmrq0fI//HPFpMjI8j85evzepr/yP3aAMxmFtvI/tIZqU2Ot8j/xjKGNQaTyPy6T2Mcfm/I/a5kPAv6R8j+on0Y83IjyP+WlfXa6f/I/Iqy0sJh28j9fsuvqdm3yP5y4IiVVZPI/2r5ZXzNb8j8XxZCZEVLyP1TLx9PvSPI/kdH+Dc4/8j/O1zVIrDbyPwvebIKKLfI/SOSjvGgk8j+G6tr2RhvyP8PwETElEvI/APdIawMJ8j89/X+l4f/xP3oDt9+/9vE/twnuGZ7t8T/0DyVUfOTxPw==",
                    "dtype": "f8"
                  }
                }
              ],
              "layout": {
                "template": {
                  "data": {
                    "bar": [
                      {
                        "error_x": {
                          "color": "#2a3f5f"
                        },
                        "error_y": {
                          "color": "#2a3f5f"
                        },
                        "marker": {
                          "line": {
                            "color": "#E5ECF6",
                            "width": 0.5
                          },
                          "pattern": {
                            "fillmode": "overlay",
                            "size": 10,
                            "solidity": 0.2
                          }
                        },
                        "type": "bar"
                      }
                    ],
                    "barpolar": [
                      {
                        "marker": {
                          "line": {
                            "color": "#E5ECF6",
                            "width": 0.5
                          },
                          "pattern": {
                            "fillmode": "overlay",
                            "size": 10,
                            "solidity": 0.2
                          }
                        },
                        "type": "barpolar"
                      }
                    ],
                    "carpet": [
                      {
                        "aaxis": {
                          "endlinecolor": "#2a3f5f",
                          "gridcolor": "white",
                          "linecolor": "white",
                          "minorgridcolor": "white",
                          "startlinecolor": "#2a3f5f"
                        },
                        "baxis": {
                          "endlinecolor": "#2a3f5f",
                          "gridcolor": "white",
                          "linecolor": "white",
                          "minorgridcolor": "white",
                          "startlinecolor": "#2a3f5f"
                        },
                        "type": "carpet"
                      }
                    ],
                    "choropleth": [
                      {
                        "colorbar": {
                          "outlinewidth": 0,
                          "ticks": ""
                        },
                        "type": "choropleth"
                      }
                    ],
                    "contour": [
                      {
                        "colorbar": {
                          "outlinewidth": 0,
                          "ticks": ""
                        },
                        "colorscale": [
                          [
                            0,
                            "#0d0887"
                          ],
                          [
                            0.1111111111111111,
                            "#46039f"
                          ],
                          [
                            0.2222222222222222,
                            "#7201a8"
                          ],
                          [
                            0.3333333333333333,
                            "#9c179e"
                          ],
                          [
                            0.4444444444444444,
                            "#bd3786"
                          ],
                          [
                            0.5555555555555556,
                            "#d8576b"
                          ],
                          [
                            0.6666666666666666,
                            "#ed7953"
                          ],
                          [
                            0.7777777777777778,
                            "#fb9f3a"
                          ],
                          [
                            0.8888888888888888,
                            "#fdca26"
                          ],
                          [
                            1,
                            "#f0f921"
                          ]
                        ],
                        "type": "contour"
                      }
                    ],
                    "contourcarpet": [
                      {
                        "colorbar": {
                          "outlinewidth": 0,
                          "ticks": ""
                        },
                        "type": "contourcarpet"
                      }
                    ],
                    "heatmap": [
                      {
                        "colorbar": {
                          "outlinewidth": 0,
                          "ticks": ""
                        },
                        "colorscale": [
                          [
                            0,
                            "#0d0887"
                          ],
                          [
                            0.1111111111111111,
                            "#46039f"
                          ],
                          [
                            0.2222222222222222,
                            "#7201a8"
                          ],
                          [
                            0.3333333333333333,
                            "#9c179e"
                          ],
                          [
                            0.4444444444444444,
                            "#bd3786"
                          ],
                          [
                            0.5555555555555556,
                            "#d8576b"
                          ],
                          [
                            0.6666666666666666,
                            "#ed7953"
                          ],
                          [
                            0.7777777777777778,
                            "#fb9f3a"
                          ],
                          [
                            0.8888888888888888,
                            "#fdca26"
                          ],
                          [
                            1,
                            "#f0f921"
                          ]
                        ],
                        "type": "heatmap"
                      }
                    ],
                    "histogram": [
                      {
                        "marker": {
                          "pattern": {
                            "fillmode": "overlay",
                            "size": 10,
                            "solidity": 0.2
                          }
                        },
                        "type": "histogram"
                      }
                    ],
                    "histogram2d": [
                      {
                        "colorbar": {
                          "outlinewidth": 0,
                          "ticks": ""
                        },
                        "colorscale": [
                          [
                            0,
                            "#0d0887"
                          ],
                          [
                            0.1111111111111111,
                            "#46039f"
                          ],
                          [
                            0.2222222222222222,
                            "#7201a8"
                          ],
                          [
                            0.3333333333333333,
                            "#9c179e"
                          ],
                          [
                            0.4444444444444444,
                            "#bd3786"
                          ],
                          [
                            0.5555555555555556,
                            "#d8576b"
                          ],
                          [
                            0.6666666666666666,
                            "#ed7953"
                          ],
                          [
                            0.7777777777777778,
                            "#fb9f3a"
                          ],
                          [
                            0.8888888888888888,
                            "#fdca26"
                          ],
                          [
                            1,
                            "#f0f921"
                          ]
                        ],
                        "type": "histogram2d"
                      }
                    ],
                    "histogram2dcontour": [
                      {
                        "colorbar": {
                          "outlinewidth": 0,
                          "ticks": ""
                        },
                        "colorscale": [
                          [
                            0,
                            "#0d0887"
                          ],
                          [
                            0.1111111111111111,
                            "#46039f"
                          ],
                          [
                            0.2222222222222222,
                            "#7201a8"
                          ],
                          [
                            0.3333333333333333,
                            "#9c179e"
                          ],
                          [
                            0.4444444444444444,
                            "#bd3786"
                          ],
                          [
                            0.5555555555555556,
                            "#d8576b"
                          ],
                          [
                            0.6666666666666666,
                            "#ed7953"
                          ],
                          [
                            0.7777777777777778,
                            "#fb9f3a"
                          ],
                          [
                            0.8888888888888888,
                            "#fdca26"
                          ],
                          [
                            1,
                            "#f0f921"
                          ]
                        ],
                        "type": "histogram2dcontour"
                      }
                    ],
                    "mesh3d": [
                      {
                        "colorbar": {
                          "outlinewidth": 0,
                          "ticks": ""
                        },
                        "type": "mesh3d"
                      }
                    ],
                    "parcoords": [
                      {
                        "line": {
                          "colorbar": {
                            "outlinewidth": 0,
                            "ticks": ""
                          }
                        },
                        "type": "parcoords"
                      }
                    ],
                    "pie": [
                      {
                        "automargin": true,
                        "type": "pie"
                      }
                    ],
                    "scatter": [
                      {
                        "fillpattern": {
                          "fillmode": "overlay",
                          "size": 10,
                          "solidity": 0.2
                        },
                        "type": "scatter"
                      }
                    ],
                    "scatter3d": [
                      {
                        "line": {
                          "colorbar": {
                            "outlinewidth": 0,
                            "ticks": ""
                          }
                        },
                        "marker": {
                          "colorbar": {
                            "outlinewidth": 0,
                            "ticks": ""
                          }
                        },
                        "type": "scatter3d"
                      }
                    ],
                    "scattercarpet": [
                      {
                        "marker": {
                          "colorbar": {
                            "outlinewidth": 0,
                            "ticks": ""
                          }
                        },
                        "type": "scattercarpet"
                      }
                    ],
                    "scattergeo": [
                      {
                        "marker": {
                          "colorbar": {
                            "outlinewidth": 0,
                            "ticks": ""
                          }
                        },
                        "type": "scattergeo"
                      }
                    ],
                    "scattergl": [
                      {
                        "marker": {
                          "colorbar": {
                            "outlinewidth": 0,
                            "ticks": ""
                          }
                        },
                        "type": "scattergl"
                      }
                    ],
                    "scattermap": [
                      {
                        "marker": {
                          "colorbar": {
                            "outlinewidth": 0,
                            "ticks": ""
                          }
                        },
                        "type": "scattermap"
                      }
                    ],
                    "scattermapbox": [
                      {
                        "marker": {
                          "colorbar": {
                            "outlinewidth": 0,
                            "ticks": ""
                          }
                        },
                        "type": "scattermapbox"
                      }
                    ],
                    "scatterpolar": [
                      {
                        "marker": {
                          "colorbar": {
                            "outlinewidth": 0,
                            "ticks": ""
                          }
                        },
                        "type": "scatterpolar"
                      }
                    ],
                    "scatterpolargl": [
                      {
                        "marker": {
                          "colorbar": {
                            "outlinewidth": 0,
                            "ticks": ""
                          }
                        },
                        "type": "scatterpolargl"
                      }
                    ],
                    "scatterternary": [
                      {
                        "marker": {
                          "colorbar": {
                            "outlinewidth": 0,
                            "ticks": ""
                          }
                        },
                        "type": "scatterternary"
                      }
                    ],
                    "surface": [
                      {
                        "colorbar": {
                          "outlinewidth": 0,
                          "ticks": ""
                        },
                        "colorscale": [
                          [
                            0,
                            "#0d0887"
                          ],
                          [
                            0.1111111111111111,
                            "#46039f"
                          ],
                          [
                            0.2222222222222222,
                            "#7201a8"
                          ],
                          [
                            0.3333333333333333,
                            "#9c179e"
                          ],
                          [
                            0.4444444444444444,
                            "#bd3786"
                          ],
                          [
                            0.5555555555555556,
                            "#d8576b"
                          ],
                          [
                            0.6666666666666666,
                            "#ed7953"
                          ],
                          [
                            0.7777777777777778,
                            "#fb9f3a"
                          ],
                          [
                            0.8888888888888888,
                            "#fdca26"
                          ],
                          [
                            1,
                            "#f0f921"
                          ]
                        ],
                        "type": "surface"
                      }
                    ],
                    "table": [
                      {
                        "cells": {
                          "fill": {
                            "color": "#EBF0F8"
                          },
                          "line": {
                            "color": "white"
                          }
                        },
                        "header": {
                          "fill": {
                            "color": "#C8D4E3"
                          },
                          "line": {
                            "color": "white"
                          }
                        },
                        "type": "table"
                      }
                    ]
                  },
                  "layout": {
                    "annotationdefaults": {
                      "arrowcolor": "#2a3f5f",
                      "arrowhead": 0,
                      "arrowwidth": 1
                    },
                    "autotypenumbers": "strict",
                    "coloraxis": {
                      "colorbar": {
                        "outlinewidth": 0,
                        "ticks": ""
                      }
                    },
                    "colorscale": {
                      "diverging": [
                        [
                          0,
                          "#8e0152"
                        ],
                        [
                          0.1,
                          "#c51b7d"
                        ],
                        [
                          0.2,
                          "#de77ae"
                        ],
                        [
                          0.3,
                          "#f1b6da"
                        ],
                        [
                          0.4,
                          "#fde0ef"
                        ],
                        [
                          0.5,
                          "#f7f7f7"
                        ],
                        [
                          0.6,
                          "#e6f5d0"
                        ],
                        [
                          0.7,
                          "#b8e186"
                        ],
                        [
                          0.8,
                          "#7fbc41"
                        ],
                        [
                          0.9,
                          "#4d9221"
                        ],
                        [
                          1,
                          "#276419"
                        ]
                      ],
                      "sequential": [
                        [
                          0,
                          "#0d0887"
                        ],
                        [
                          0.1111111111111111,
                          "#46039f"
                        ],
                        [
                          0.2222222222222222,
                          "#7201a8"
                        ],
                        [
                          0.3333333333333333,
                          "#9c179e"
                        ],
                        [
                          0.4444444444444444,
                          "#bd3786"
                        ],
                        [
                          0.5555555555555556,
                          "#d8576b"
                        ],
                        [
                          0.6666666666666666,
                          "#ed7953"
                        ],
                        [
                          0.7777777777777778,
                          "#fb9f3a"
                        ],
                        [
                          0.8888888888888888,
                          "#fdca26"
                        ],
                        [
                          1,
                          "#f0f921"
                        ]
                      ],
                      "sequentialminus": [
                        [
                          0,
                          "#0d0887"
                        ],
                        [
                          0.1111111111111111,
                          "#46039f"
                        ],
                        [
                          0.2222222222222222,
                          "#7201a8"
                        ],
                        [
                          0.3333333333333333,
                          "#9c179e"
                        ],
                        [
                          0.4444444444444444,
                          "#bd3786"
                        ],
                        [
                          0.5555555555555556,
                          "#d8576b"
                        ],
                        [
                          0.6666666666666666,
                          "#ed7953"
                        ],
                        [
                          0.7777777777777778,
                          "#fb9f3a"
                        ],
                        [
                          0.8888888888888888,
                          "#fdca26"
                        ],
                        [
                          1,
                          "#f0f921"
                        ]
                      ]
                    },
                    "colorway": [
                      "#636efa",
                      "#EF553B",
                      "#00cc96",
                      "#ab63fa",
                      "#FFA15A",
                      "#19d3f3",
                      "#FF6692",
                      "#B6E880",
                      "#FF97FF",
                      "#FECB52"
                    ],
                    "font": {
                      "color": "#2a3f5f"
                    },
                    "geo": {
                      "bgcolor": "white",
                      "lakecolor": "white",
                      "landcolor": "#E5ECF6",
                      "showlakes": true,
                      "showland": true,
                      "subunitcolor": "white"
                    },
                    "hoverlabel": {
                      "align": "left"
                    },
                    "hovermode": "closest",
                    "mapbox": {
                      "style": "light"
                    },
                    "paper_bgcolor": "white",
                    "plot_bgcolor": "#E5ECF6",
                    "polar": {
                      "angularaxis": {
                        "gridcolor": "white",
                        "linecolor": "white",
                        "ticks": ""
                      },
                      "bgcolor": "#E5ECF6",
                      "radialaxis": {
                        "gridcolor": "white",
                        "linecolor": "white",
                        "ticks": ""
                      }
                    },
                    "scene": {
                      "xaxis": {
                        "backgroundcolor": "#E5ECF6",
                        "gridcolor": "white",
                        "gridwidth": 2,
                        "linecolor": "white",
                        "showbackground": true,
                        "ticks": "",
                        "zerolinecolor": "white"
                      },
                      "yaxis": {
                        "backgroundcolor": "#E5ECF6",
                        "gridcolor": "white",
                        "gridwidth": 2,
                        "linecolor": "white",
                        "showbackground": true,
                        "ticks": "",
                        "zerolinecolor": "white"
                      },
                      "zaxis": {
                        "backgroundcolor": "#E5ECF6",
                        "gridcolor": "white",
                        "gridwidth": 2,
                        "linecolor": "white",
                        "showbackground": true,
                        "ticks": "",
                        "zerolinecolor": "white"
                      }
                    },
                    "shapedefaults": {
                      "line": {
                        "color": "#2a3f5f"
                      }
                    },
                    "ternary": {
                      "aaxis": {
                        "gridcolor": "white",
                        "linecolor": "white",
                        "ticks": ""
                      },
                      "baxis": {
                        "gridcolor": "white",
                        "linecolor": "white",
                        "ticks": ""
                      },
                      "bgcolor": "#E5ECF6",
                      "caxis": {
                        "gridcolor": "white",
                        "linecolor": "white",
                        "ticks": ""
                      }
                    },
                    "title": {
                      "x": 0.05
                    },
                    "xaxis": {
                      "automargin": true,
                      "gridcolor": "white",
                      "linecolor": "white",
                      "ticks": "",
                      "title": {
                        "standoff": 15
                      },
                      "zerolinecolor": "white",
                      "zerolinewidth": 2
                    },
                    "yaxis": {
                      "automargin": true,
                      "gridcolor": "white",
                      "linecolor": "white",
                      "ticks": "",
                      "title": {
                        "standoff": 15
                      },
                      "zerolinecolor": "white",
                      "zerolinewidth": 2
                    }
                  }
                }
              }
            }
          },
          "metadata": {},
          "output_type": "display_data"
        }
      ],
      "source": [
        "\n",
        "#dfpl = df[candle-backcandles-window-5:candle+200]\n",
        "\n",
        "fig = go.Figure(data=[go.Candlestick(x=dfpl.index,\n",
        "                open=dfpl['Open'],\n",
        "                high=dfpl['High'],\n",
        "                low=dfpl['Low'],\n",
        "                close=dfpl['Close'])])\n",
        "\n",
        "fig.add_scatter(x=dfpl.index, y=dfpl['pointpos'], mode=\"markers\",\n",
        "                marker=dict(size=5, color=\"MediumPurple\"),\n",
        "                name=\"pivot\")\n",
        "\n",
        "sl_lows, interc_lows, sl_highs, interc_highs, r_sq_l, r_sq_h = collect_channel(candle, backcandles, window)\n",
        "print(r_sq_l, r_sq_h)\n",
        "x = np.array(range(candle-backcandles-window, candle+1))\n",
        "fig.add_trace(go.Scatter(x=x, y=sl_lows*x + interc_lows, mode='lines', name='lower slope'))\n",
        "fig.add_trace(go.Scatter(x=x, y=sl_highs*x + interc_highs, mode='lines', name='max slope'))\n",
        "#fig.update_layout(xaxis_rangeslider_visible=False)\n",
        "fig.show()"
      ]
    },
    {
      "cell_type": "code",
      "execution_count": 13,
      "id": "-eXFa28EV7it",
      "metadata": {
        "colab": {
          "base_uri": "https://localhost:8080/",
          "height": 698
        },
        "id": "-eXFa28EV7it",
        "outputId": "7b3272f8-5e71-4e16-9bda-1f1ca057e3b7"
      },
      "outputs": [
        {
          "name": "stdout",
          "output_type": "stream",
          "text": [
            "0.9997569138713336 0.9427785084875531\n"
          ]
        },
        {
          "name": "stderr",
          "output_type": "stream",
          "text": [
            "/tmp/ipykernel_549211/1638216254.py:3: SettingWithCopyWarning:\n",
            "\n",
            "\n",
            "A value is trying to be set on a copy of a slice from a DataFrame.\n",
            "Try using .loc[row_indexer,col_indexer] = value instead\n",
            "\n",
            "See the caveats in the documentation: https://pandas.pydata.org/pandas-docs/stable/user_guide/indexing.html#returning-a-view-versus-a-copy\n",
            "\n"
          ]
        },
        {
          "data": {
            "application/vnd.plotly.v1+json": {
              "config": {
                "plotlyServerURL": "https://plot.ly"
              },
              "data": [
                {
                  "close": {
                    "bdata": "/ACkNnHy8T9TXFX2XRHyPyyazk4GR/I/f8Fu2LYo8j90RpT2Bl/yP1RXPsvzYPI/VFc+y/Ng8j8ep+hILn/yP69amfBLffI/b/Wc9L5x8j8+6Nms+lzyP0m6ZvLNNvI/IqZEEr2M8j8ipkQSvYzyP2XCL/XzpvI/qmBUUieg8j9McVXZd8XyPwDGM2jon/I/24XmOo208j/GihpMw/DyP8aKGkzD8PI/f03WqIfo8j+4kh0bgfjyPy/APjp15fI/6BN5knTN8j9l/PuMCwfzP7aEfNCz2fI/toR80LPZ8j/i5H6HosDyP5iG4SNiyvI/Z7gBnx/G8j/Ed2LWi6HyPzYf14aK8fI/umbyzTa38j+6ZvLNNrfyP9atnpPet/I/eUDZlCu88j/l7QinBa/yP1ZI+Um1z/I/huY6jbTU8j8HCObo8fvyPwcI5ujx+/I//+cwX14A8z/xETElkujyP9HLKJZb2vI/cLGiBtOw8j/ulA7W/7nyP+PfZ1w4kPI/499nXDiQ8j/wp8ZLN4nyPwpoImx4evI/MPDce7hk8j+FfNCzWXXyP2aIY13cRvI/flcE/1tJ8j9+VwT/W0nyPyyazk4GR/I/dc3km21u8j+syr4rgn/yP6abxCCwcvI/pSxDHOti8j9Q3zKny2LyP1DfMqfLYvI/uMzpsphY8j+wIM1YNB3yPwtGJXUCGvI/3nahuU4j8j94uYjvxCzyP0F9y5wuC/I/QX3LnC4L8j/r/xzmywvyP7gBnx9GCPI/NrBVgsXh8T9mvRjKifbxP2ItPgXA+PE/gnNGlPYG8j+Cc0aU9gbyP64q+64I/vE/GH0FacYi8j8fhetRuB7yP+XyH9JvX/I/7lpCPuhZ8j8niLoPQGryPyeIug9AavI/MPDce7hk8j85KGGm7V/yP671RUJbTvI/gPEMGvon8j8m32xzY/rxP9RgGoaPCPI/1GAaho8I8j8Plxx3SgfyP2ACt+7mKfI/YXE486s58j/B/1ayYyPyP1jKMsSxLvI/n1kSoKYW8j+fWRKgphbyP59ZEqCmFvI/tB8pIsMq8j8=",
                    "dtype": "f8"
                  },
                  "high": {
                    "bdata": "DLCPTl358T8UlnhA2RTyP/xSP28qUvI/tOVciqtK8j+afLPNjWnyP/ZAKzBkdfI/VFc+y/Ng8j/iWBe30YDyP0Z8J2a9mPI/5ujxe5t+8j+/gjRj0XTyP6mkTkATYfI/IqZEEr2M8j8ipkQSvYzyPxkcJa/OsfI/gv+tZMfG8j9lcJS8OsfyP9F0djI4yvI/3jzVITfD8j9u3c1THfLyP8aKGkzD8PI/b/Wc9L7x8j9WZd8Vwf/yPxJOC170FfM/3lm77ULz8j8AV7JjIxDzP5tyhXe5CPM/toR80LPZ8j/S+8bXntnyP8AEbt3N0/I/DkqYafvX8j9eaK7TSMvyP2q8dJMYBPM/xuHMr+YA8z+6ZvLNNrfyPwZkr3d/vPI/e0563/ja8j9iEFg5tMjyP0XY8PRK2fI/wqONI9bi8j+OI9biUwDzPwcI5ujx+/I//+cwX14A8z/bp+MxAxXzP3nMQGX8+/I//cHAc+/h8j/zk2qfjsfyP6Cmlq31xfI/499nXDiQ8j86deWzPI/yP/8+48KBkPI/LA5nfjWH8j+dEaW9wZfyPyuHFtnOd/I/m1Wfq61Y8j9+VwT/W0nyPyNKe4MvTPI/iPTb14Fz8j81tWytL5LyPxn/PuPCgfI/Sl6dY0B28j+k/KTap2PyP1DfMqfLYvI/3zKny2Ji8j8L0oxF01nyP0bT2cngKPI/yXa+nxov8j8LDFnd6jnyPwXdXtIYLfI/QX3LnC4L8j/BqKROQBPyPyxlGeJYF/I/F2U2yCQj8j9kXdxGA/jxP8lZ2NMO//E/2o8UkWEV8j+Cc0aU9gbyP7jpz36kCPI/z2bV52or8j/EzhQ6rzHyP21Wfa62YvI/0jqqmiBq8j9EboYb8HnyPyeIug9AavI/V5V9VwR/8j/MYmLzcW3yP4V80LNZdfI/UaBP5ElS8j92ieqtgS3yP7Hh6ZWyDPI/1GAaho8I8j8d5ssLsA/yPxjshm2LMvI/eUDZlCs88j9I4XoUrkfyP4nvxKwXQ/I/3J212y408j+fWRKgphbyP59ZEqCmFvI/FFysqME08j8=",
                    "dtype": "f8"
                  },
                  "low": {
                    "bdata": "/Bhz1xLy8T8jEK/rF+zxPwwfEVMiCfI/yAc9m1Uf8j+/SGjLuRTyP+uLhLacS/I/VFc+y/Ng8j9UVz7L82DyP1YOLbKdb/I/n82qz9VW8j/UQzS6g1jyP+FdLuI7MfI/46WbxCAw8j8ipkQSvYzyPw5Pr5RliPI/nRGlvcGX8j+sOUAwR4/yP/EuF/GdmPI/9KYiFcaW8j+aCBueXqnyP8aKGkzD8PI/1/oioS3n8j/l8h/Sb9/yP/kx5q4l5PI/J4Oj5NW58j9NSkG3l7TyP9OkFHR7yfI/toR80LPZ8j97oBUYsrryP2uCqPsApPI/pics8YCy8j8jFcYWgpzyP9E/wcWKmvI/xebj2lCx8j+6ZvLNNrfyPzaTb7a5sfI/9kVCW86l8j/whclUwajyPy3saYe/pvI/mnecoiO58j/ZfFwbKsbyPwcI5ujx+/I/Yi0+BcD48j9mZmZmZubyP09AE2HD0/I/1T4djxmo8j9HPUSjO4jyP+3YCMTrevI/499nXDiQ8j9s7BLVW4PyPwxZ3eo5afI/XI/C9Shc8j9rDhDM0WPyP+CcEaW9QfI/IsMq3sg88j9+VwT/W0nyP6HWNO84RfI/QGoTJ/c78j9j7lpCPmjyP/JBz2bVZ/I/mIbhI2JK8j9xj6UPXVDyP1DfMqfLYvI/3qtWJvxS8j+dEaW9wRfyPzMWTWcnA/I/9u6P96oV8j/V52or9hfyP2FUUiegCfI/QX3LnC4L8j8Rx7q4jQbyPwfwFkhQ/PE/DAIrhxbZ8T/zqzlAMMfxP7ecS3FV2fE/HuG04EXf8T+Cc0aU9gbyP69amfBL/fE/Bwjm6PH78T+fceFASBbyP+/+eK9aGfI/9dvXgXNG8j8CK4cW2U7yPyeIug9AavI/Qni0ccRa8j81KQXdXlLyP0ax3NJqSPI/NQwfEVMi8j+GrG71nPTxP+NTAIxn0PE/1GAaho8I8j++wRcmUwXyP20csRafAvI/ER5tHLEW8j/KT6p9Oh7yP+tunuqQG/I/VwT/W8kO8j+fWRKgphbyP59ZEqCmFvI/FD/G3LUE8j8=",
                    "dtype": "f8"
                  },
                  "open": {
                    "bdata": "Lc+Du7P28T9u3c1THfLxP/4ORYE+EfI/EVMiiV5G8j9FuwopPynyP1a3ek56X/I/VFc+y/Ng8j+ppE5AE2HyPxxfe2ZJgPI/BthHp6588j8awFsgQXHyP+mayTfbXPI/g8DKoUU28j8ipkQSvYzyPwYv+grSjPI/Er2MYrml8j8AxjNo6J/yP0yJJHoZxfI/4h5LH7qg8j/APjp15bPyP8aKGkzD8PI/xXJLqyHx8j8PuRluwOfyP0j+YOC59/I/aJYEqKnl8j+Srpl8s83yPy0+BcB4BvM/toR80LPZ8j8MAiuHFtnyP42XbhKDwPI/RYE+kSfJ8j+hvmVOl8XyP4uJzce1ofI/jIS2nEvx8j+6ZvLNNrfyP4F4Xb9gt/I/KxN+qZ+38j9d4V0u4rvyP+cdp+hIrvI/AiuHFtnO8j8VUn5S7dPyPwcI5ujx+/I/XD0nvW/88j/G+ZtQiADzP/ERMSWS6PI/fa62Yn/Z8j//7EeKyLDyP0USvYxiufI/499nXDiQ8j/q501FKozyPw034PPDiPI/Jt9sc2N68j8w2A3bFmXyP7+CNGPRdPI/10y+2eZG8j9+VwT/W0nyP5vmHafoSPI/gv+tZMdG8j+to6oJom7yP8lxp3SwfvI/p8tiYvNx8j+ndLD+z2HyP1DfMqfLYvI/3zKny2Ji8j/y6hwDslfyP1q77UJzHfI/XkvIBz0b8j8z3IDPDyPyP0JD/wQXK/I/QX3LnC4L8j9BfcucLgvyP5fK2xFOC/I/Rz1EozsI8j+ndLD+z+HxP9rJ4Ch59fE/KCfaVUj58T+Cc0aU9gbyP9fAVgkWB/I/6DBfXoD98T9Ty9b6IiHyP5KRs7CnHfI/OShhpu1f8j/woq8gzVjyPyeIug9AavI/WMUbmUd+8j9Ol8XE5mPyP6rU7IFWYPI/WKg1zTtO8j+bIOo+ACnyP2Dl0CLb+fE/1GAaho8I8j/sL7snDwvyP2X8+4wLB/I/KCzxgLIp8j+cvwmFCDjyP6RwPQrXI/I/yqZc4V0u8j+fWRKgphbyP59ZEqCmFvI/qyFxj6UP8j8=",
                    "dtype": "f8"
                  },
                  "type": "candlestick",
                  "x": {
                    "bdata": "AAECAwQFBgcICQoLDA0ODxAREhMUFRYXGBkaGxwdHh8gISIjJCUmJygpKissLS4vMDEyMzQ1Njc4OTo7PD0+P0BBQkNERUZHSElKS0xNTk9QUVJTVFVWV1hZWltcXV5fYGFiYw==",
                    "dtype": "i1"
                  }
                },
                {
                  "marker": {
                    "color": "MediumPurple",
                    "size": 5
                  },
                  "mode": "markers",
                  "name": "pivot",
                  "type": "scatter",
                  "x": {
                    "bdata": "AAECAwQFBgcICQoLDA0ODxAREhMUFRYXGBkaGxwdHh8gISIjJCUmJygpKissLS4vMDEyMzQ1Njc4OTo7PD0+P0BBQkNERUZHSElKS0xNTk9QUVJTVFVWV1hZWltcXV5fYGFiYw==",
                    "dtype": "i1"
                  },
                  "y": {
                    "bdata": "AAAAAAAA+H8AAAAAAAD4fwAAAAAAAPh/AAAAAAAA+H8AAAAAAAD4fwAAAAAAAPh/AAAAAAAA+H8AAAAAAAD4f7A4nPnVnPI/AAAAAAAA+H8AAAAAAAD4fwAAAAAAAPh/eekmMQgs8j8AAAAAAAD4fwAAAAAAAPh/AAAAAAAA+H8AAAAAAAD4fwAAAAAAAPh/AAAAAAAA+H8AAAAAAAD4fwAAAAAAAPh/AAAAAAAA+H8AAAAAAAD4f3wKgPEMGvM/AAAAAAAA+H/jjcwjf7DyPwAAAAAAAPh/AAAAAAAA+H8AAAAAAAD4fwAAAAAAAPh/AAAAAAAA+H8AAAAAAAD4fwAAAAAAAPh/AAAAAAAA+H8AAAAAAAD4fwAAAAAAAPh/jInNx7Wh8j8AAAAAAAD4fwAAAAAAAPh/AAAAAAAA+H8AAAAAAAD4fwAAAAAAAPh/AAAAAAAA+H9FZFjFGxnzPwAAAAAAAPh/AAAAAAAA+H8AAAAAAAD4fwAAAAAAAPh/AAAAAAAA+H8AAAAAAAD4fwAAAAAAAPh/AAAAAAAA+H8HzhlR2pvyPwAAAAAAAPh/AAAAAAAA+H8AAAAAAAD4fwAAAAAAAPh/1q2ek9438j+fceFASJbyPwAAAAAAAPh/AAAAAAAA+H8AAAAAAAD4fwAAAAAAAPh/AAAAAAAA+H8AAAAAAAD4f8lZ2NMO//E/AAAAAAAA+H8AAAAAAAD4fwAAAAAAAPh/AAAAAAAA+H8AAAAAAAD4fwAAAAAAAPh/gSGrWz0n8j+J78SsF8PxPwAAAAAAAPh/AAAAAAAA+H8AAAAAAAD4fwAAAAAAAPh/AAAAAAAA+H8AAAAAAAD4fwAAAAAAAPh/AAAAAAAA+H8AAAAAAAD4fwAAAAAAAPh/wVHy6hyD8j8AAAAAAAD4fwAAAAAAAPh/AAAAAAAA+H8AAAAAAAD4f3mXi/hOzPE/AAAAAAAA+H8AAAAAAAD4fwAAAAAAAPh/AAAAAAAA+H+yne+nxkvyPwAAAAAAAPh/AAAAAAAA+H8AAAAAAAD4fwAAAAAAAPh/fhghPNo48j8=",
                    "dtype": "f8"
                  }
                },
                {
                  "mode": "lines",
                  "name": "lower slope",
                  "type": "scatter",
                  "x": {
                    "bdata": "KissLS4vMDEyMzQ1Njc4OTo7PD0+P0BBQkNERUZHSElKS0xNTk9QUVJTVFU=",
                    "dtype": "i1"
                  },
                  "y": {
                    "bdata": "XBC3MPip8j93dEnCq6LyP5LY21Nfm/I/rTxu5RKU8j/JoAB3xozyP+QEkwh6hfI//2glmi1+8j8azbcr4XbyPzUxSr2Ub/I/UZXcTkho8j9s+W7g+2DyP4ddAXKvWfI/osGTA2NS8j+9JSaVFkvyP9iJuCbKQ/I/9O1KuH088j8PUt1JMTXyPyq2b9vkLfI/RRoCbZgm8j9gfpT+Sx/yP3ziJpD/F/I/l0a5IbMQ8j+yqkuzZgnyP80O3kQaAvI/6HJw1s368T8E1wJogfPxPx87lfk07PE/Op8ni+jk8T9VA7ocnN3xP3BnTK5P1vE/jMvePwPP8T+nL3HRtsfxP8KTA2NqwPE/3feV9B258T/4WyiG0bHxPxTAuheFqvE/LyRNqTij8T9KiN867JvxP2XsccyflPE/gFAEXlON8T+btJbvBobxP7YYKYG6fvE/0ny7Em538T/t4E2kIXDxPw==",
                    "dtype": "f8"
                  }
                },
                {
                  "mode": "lines",
                  "name": "max slope",
                  "type": "scatter",
                  "x": {
                    "bdata": "KissLS4vMDEyMzQ1Njc4OTo7PD0+P0BBQkNERUZHSElKS0xNTk9QUVJTVFU=",
                    "dtype": "i1"
                  },
                  "y": {
                    "bdata": "liGBLdwI8z9iQqEV+gDzPy5jwf0X+fI/+oPh5TXx8j/GpAHOU+nyP5LFIbZx4fI/XuZBno/Z8j8qB2KGrdHyP/Yngm7LyfI/wkiiVunB8j+OacI+B7ryP1qK4iYlsvI/JqsCD0Oq8j/yyyL3YKLyP77sQt9+mvI/ig1jx5yS8j9WLoOvuoryPyFPo5fYgvI/7W/Df/Z68j+5kONnFHPyP4WxA1Aya/I/UdIjOFBj8j8d80MgblvyP+kTZAiMU/I/tTSE8KlL8j+BVaTYx0PyP012xMDlO/I/GZfkqAM08j/ltwSRISzyP7HYJHk/JPI/fflEYV0c8j9JGmVJexTyPxU7hTGZDPI/4VulGbcE8j+tfMUB1fzxP3md5eny9PE/Rb4F0hDt8T8R3yW6LuXxP9z/RaJM3fE/qCBmimrV8T90QYZyiM3xP0BiplqmxfE/DIPGQsS98T/Yo+Yq4rXxPw==",
                    "dtype": "f8"
                  }
                }
              ],
              "layout": {
                "template": {
                  "data": {
                    "bar": [
                      {
                        "error_x": {
                          "color": "#2a3f5f"
                        },
                        "error_y": {
                          "color": "#2a3f5f"
                        },
                        "marker": {
                          "line": {
                            "color": "#E5ECF6",
                            "width": 0.5
                          },
                          "pattern": {
                            "fillmode": "overlay",
                            "size": 10,
                            "solidity": 0.2
                          }
                        },
                        "type": "bar"
                      }
                    ],
                    "barpolar": [
                      {
                        "marker": {
                          "line": {
                            "color": "#E5ECF6",
                            "width": 0.5
                          },
                          "pattern": {
                            "fillmode": "overlay",
                            "size": 10,
                            "solidity": 0.2
                          }
                        },
                        "type": "barpolar"
                      }
                    ],
                    "carpet": [
                      {
                        "aaxis": {
                          "endlinecolor": "#2a3f5f",
                          "gridcolor": "white",
                          "linecolor": "white",
                          "minorgridcolor": "white",
                          "startlinecolor": "#2a3f5f"
                        },
                        "baxis": {
                          "endlinecolor": "#2a3f5f",
                          "gridcolor": "white",
                          "linecolor": "white",
                          "minorgridcolor": "white",
                          "startlinecolor": "#2a3f5f"
                        },
                        "type": "carpet"
                      }
                    ],
                    "choropleth": [
                      {
                        "colorbar": {
                          "outlinewidth": 0,
                          "ticks": ""
                        },
                        "type": "choropleth"
                      }
                    ],
                    "contour": [
                      {
                        "colorbar": {
                          "outlinewidth": 0,
                          "ticks": ""
                        },
                        "colorscale": [
                          [
                            0,
                            "#0d0887"
                          ],
                          [
                            0.1111111111111111,
                            "#46039f"
                          ],
                          [
                            0.2222222222222222,
                            "#7201a8"
                          ],
                          [
                            0.3333333333333333,
                            "#9c179e"
                          ],
                          [
                            0.4444444444444444,
                            "#bd3786"
                          ],
                          [
                            0.5555555555555556,
                            "#d8576b"
                          ],
                          [
                            0.6666666666666666,
                            "#ed7953"
                          ],
                          [
                            0.7777777777777778,
                            "#fb9f3a"
                          ],
                          [
                            0.8888888888888888,
                            "#fdca26"
                          ],
                          [
                            1,
                            "#f0f921"
                          ]
                        ],
                        "type": "contour"
                      }
                    ],
                    "contourcarpet": [
                      {
                        "colorbar": {
                          "outlinewidth": 0,
                          "ticks": ""
                        },
                        "type": "contourcarpet"
                      }
                    ],
                    "heatmap": [
                      {
                        "colorbar": {
                          "outlinewidth": 0,
                          "ticks": ""
                        },
                        "colorscale": [
                          [
                            0,
                            "#0d0887"
                          ],
                          [
                            0.1111111111111111,
                            "#46039f"
                          ],
                          [
                            0.2222222222222222,
                            "#7201a8"
                          ],
                          [
                            0.3333333333333333,
                            "#9c179e"
                          ],
                          [
                            0.4444444444444444,
                            "#bd3786"
                          ],
                          [
                            0.5555555555555556,
                            "#d8576b"
                          ],
                          [
                            0.6666666666666666,
                            "#ed7953"
                          ],
                          [
                            0.7777777777777778,
                            "#fb9f3a"
                          ],
                          [
                            0.8888888888888888,
                            "#fdca26"
                          ],
                          [
                            1,
                            "#f0f921"
                          ]
                        ],
                        "type": "heatmap"
                      }
                    ],
                    "histogram": [
                      {
                        "marker": {
                          "pattern": {
                            "fillmode": "overlay",
                            "size": 10,
                            "solidity": 0.2
                          }
                        },
                        "type": "histogram"
                      }
                    ],
                    "histogram2d": [
                      {
                        "colorbar": {
                          "outlinewidth": 0,
                          "ticks": ""
                        },
                        "colorscale": [
                          [
                            0,
                            "#0d0887"
                          ],
                          [
                            0.1111111111111111,
                            "#46039f"
                          ],
                          [
                            0.2222222222222222,
                            "#7201a8"
                          ],
                          [
                            0.3333333333333333,
                            "#9c179e"
                          ],
                          [
                            0.4444444444444444,
                            "#bd3786"
                          ],
                          [
                            0.5555555555555556,
                            "#d8576b"
                          ],
                          [
                            0.6666666666666666,
                            "#ed7953"
                          ],
                          [
                            0.7777777777777778,
                            "#fb9f3a"
                          ],
                          [
                            0.8888888888888888,
                            "#fdca26"
                          ],
                          [
                            1,
                            "#f0f921"
                          ]
                        ],
                        "type": "histogram2d"
                      }
                    ],
                    "histogram2dcontour": [
                      {
                        "colorbar": {
                          "outlinewidth": 0,
                          "ticks": ""
                        },
                        "colorscale": [
                          [
                            0,
                            "#0d0887"
                          ],
                          [
                            0.1111111111111111,
                            "#46039f"
                          ],
                          [
                            0.2222222222222222,
                            "#7201a8"
                          ],
                          [
                            0.3333333333333333,
                            "#9c179e"
                          ],
                          [
                            0.4444444444444444,
                            "#bd3786"
                          ],
                          [
                            0.5555555555555556,
                            "#d8576b"
                          ],
                          [
                            0.6666666666666666,
                            "#ed7953"
                          ],
                          [
                            0.7777777777777778,
                            "#fb9f3a"
                          ],
                          [
                            0.8888888888888888,
                            "#fdca26"
                          ],
                          [
                            1,
                            "#f0f921"
                          ]
                        ],
                        "type": "histogram2dcontour"
                      }
                    ],
                    "mesh3d": [
                      {
                        "colorbar": {
                          "outlinewidth": 0,
                          "ticks": ""
                        },
                        "type": "mesh3d"
                      }
                    ],
                    "parcoords": [
                      {
                        "line": {
                          "colorbar": {
                            "outlinewidth": 0,
                            "ticks": ""
                          }
                        },
                        "type": "parcoords"
                      }
                    ],
                    "pie": [
                      {
                        "automargin": true,
                        "type": "pie"
                      }
                    ],
                    "scatter": [
                      {
                        "fillpattern": {
                          "fillmode": "overlay",
                          "size": 10,
                          "solidity": 0.2
                        },
                        "type": "scatter"
                      }
                    ],
                    "scatter3d": [
                      {
                        "line": {
                          "colorbar": {
                            "outlinewidth": 0,
                            "ticks": ""
                          }
                        },
                        "marker": {
                          "colorbar": {
                            "outlinewidth": 0,
                            "ticks": ""
                          }
                        },
                        "type": "scatter3d"
                      }
                    ],
                    "scattercarpet": [
                      {
                        "marker": {
                          "colorbar": {
                            "outlinewidth": 0,
                            "ticks": ""
                          }
                        },
                        "type": "scattercarpet"
                      }
                    ],
                    "scattergeo": [
                      {
                        "marker": {
                          "colorbar": {
                            "outlinewidth": 0,
                            "ticks": ""
                          }
                        },
                        "type": "scattergeo"
                      }
                    ],
                    "scattergl": [
                      {
                        "marker": {
                          "colorbar": {
                            "outlinewidth": 0,
                            "ticks": ""
                          }
                        },
                        "type": "scattergl"
                      }
                    ],
                    "scattermap": [
                      {
                        "marker": {
                          "colorbar": {
                            "outlinewidth": 0,
                            "ticks": ""
                          }
                        },
                        "type": "scattermap"
                      }
                    ],
                    "scattermapbox": [
                      {
                        "marker": {
                          "colorbar": {
                            "outlinewidth": 0,
                            "ticks": ""
                          }
                        },
                        "type": "scattermapbox"
                      }
                    ],
                    "scatterpolar": [
                      {
                        "marker": {
                          "colorbar": {
                            "outlinewidth": 0,
                            "ticks": ""
                          }
                        },
                        "type": "scatterpolar"
                      }
                    ],
                    "scatterpolargl": [
                      {
                        "marker": {
                          "colorbar": {
                            "outlinewidth": 0,
                            "ticks": ""
                          }
                        },
                        "type": "scatterpolargl"
                      }
                    ],
                    "scatterternary": [
                      {
                        "marker": {
                          "colorbar": {
                            "outlinewidth": 0,
                            "ticks": ""
                          }
                        },
                        "type": "scatterternary"
                      }
                    ],
                    "surface": [
                      {
                        "colorbar": {
                          "outlinewidth": 0,
                          "ticks": ""
                        },
                        "colorscale": [
                          [
                            0,
                            "#0d0887"
                          ],
                          [
                            0.1111111111111111,
                            "#46039f"
                          ],
                          [
                            0.2222222222222222,
                            "#7201a8"
                          ],
                          [
                            0.3333333333333333,
                            "#9c179e"
                          ],
                          [
                            0.4444444444444444,
                            "#bd3786"
                          ],
                          [
                            0.5555555555555556,
                            "#d8576b"
                          ],
                          [
                            0.6666666666666666,
                            "#ed7953"
                          ],
                          [
                            0.7777777777777778,
                            "#fb9f3a"
                          ],
                          [
                            0.8888888888888888,
                            "#fdca26"
                          ],
                          [
                            1,
                            "#f0f921"
                          ]
                        ],
                        "type": "surface"
                      }
                    ],
                    "table": [
                      {
                        "cells": {
                          "fill": {
                            "color": "#EBF0F8"
                          },
                          "line": {
                            "color": "white"
                          }
                        },
                        "header": {
                          "fill": {
                            "color": "#C8D4E3"
                          },
                          "line": {
                            "color": "white"
                          }
                        },
                        "type": "table"
                      }
                    ]
                  },
                  "layout": {
                    "annotationdefaults": {
                      "arrowcolor": "#2a3f5f",
                      "arrowhead": 0,
                      "arrowwidth": 1
                    },
                    "autotypenumbers": "strict",
                    "coloraxis": {
                      "colorbar": {
                        "outlinewidth": 0,
                        "ticks": ""
                      }
                    },
                    "colorscale": {
                      "diverging": [
                        [
                          0,
                          "#8e0152"
                        ],
                        [
                          0.1,
                          "#c51b7d"
                        ],
                        [
                          0.2,
                          "#de77ae"
                        ],
                        [
                          0.3,
                          "#f1b6da"
                        ],
                        [
                          0.4,
                          "#fde0ef"
                        ],
                        [
                          0.5,
                          "#f7f7f7"
                        ],
                        [
                          0.6,
                          "#e6f5d0"
                        ],
                        [
                          0.7,
                          "#b8e186"
                        ],
                        [
                          0.8,
                          "#7fbc41"
                        ],
                        [
                          0.9,
                          "#4d9221"
                        ],
                        [
                          1,
                          "#276419"
                        ]
                      ],
                      "sequential": [
                        [
                          0,
                          "#0d0887"
                        ],
                        [
                          0.1111111111111111,
                          "#46039f"
                        ],
                        [
                          0.2222222222222222,
                          "#7201a8"
                        ],
                        [
                          0.3333333333333333,
                          "#9c179e"
                        ],
                        [
                          0.4444444444444444,
                          "#bd3786"
                        ],
                        [
                          0.5555555555555556,
                          "#d8576b"
                        ],
                        [
                          0.6666666666666666,
                          "#ed7953"
                        ],
                        [
                          0.7777777777777778,
                          "#fb9f3a"
                        ],
                        [
                          0.8888888888888888,
                          "#fdca26"
                        ],
                        [
                          1,
                          "#f0f921"
                        ]
                      ],
                      "sequentialminus": [
                        [
                          0,
                          "#0d0887"
                        ],
                        [
                          0.1111111111111111,
                          "#46039f"
                        ],
                        [
                          0.2222222222222222,
                          "#7201a8"
                        ],
                        [
                          0.3333333333333333,
                          "#9c179e"
                        ],
                        [
                          0.4444444444444444,
                          "#bd3786"
                        ],
                        [
                          0.5555555555555556,
                          "#d8576b"
                        ],
                        [
                          0.6666666666666666,
                          "#ed7953"
                        ],
                        [
                          0.7777777777777778,
                          "#fb9f3a"
                        ],
                        [
                          0.8888888888888888,
                          "#fdca26"
                        ],
                        [
                          1,
                          "#f0f921"
                        ]
                      ]
                    },
                    "colorway": [
                      "#636efa",
                      "#EF553B",
                      "#00cc96",
                      "#ab63fa",
                      "#FFA15A",
                      "#19d3f3",
                      "#FF6692",
                      "#B6E880",
                      "#FF97FF",
                      "#FECB52"
                    ],
                    "font": {
                      "color": "#2a3f5f"
                    },
                    "geo": {
                      "bgcolor": "white",
                      "lakecolor": "white",
                      "landcolor": "#E5ECF6",
                      "showlakes": true,
                      "showland": true,
                      "subunitcolor": "white"
                    },
                    "hoverlabel": {
                      "align": "left"
                    },
                    "hovermode": "closest",
                    "mapbox": {
                      "style": "light"
                    },
                    "paper_bgcolor": "white",
                    "plot_bgcolor": "#E5ECF6",
                    "polar": {
                      "angularaxis": {
                        "gridcolor": "white",
                        "linecolor": "white",
                        "ticks": ""
                      },
                      "bgcolor": "#E5ECF6",
                      "radialaxis": {
                        "gridcolor": "white",
                        "linecolor": "white",
                        "ticks": ""
                      }
                    },
                    "scene": {
                      "xaxis": {
                        "backgroundcolor": "#E5ECF6",
                        "gridcolor": "white",
                        "gridwidth": 2,
                        "linecolor": "white",
                        "showbackground": true,
                        "ticks": "",
                        "zerolinecolor": "white"
                      },
                      "yaxis": {
                        "backgroundcolor": "#E5ECF6",
                        "gridcolor": "white",
                        "gridwidth": 2,
                        "linecolor": "white",
                        "showbackground": true,
                        "ticks": "",
                        "zerolinecolor": "white"
                      },
                      "zaxis": {
                        "backgroundcolor": "#E5ECF6",
                        "gridcolor": "white",
                        "gridwidth": 2,
                        "linecolor": "white",
                        "showbackground": true,
                        "ticks": "",
                        "zerolinecolor": "white"
                      }
                    },
                    "shapedefaults": {
                      "line": {
                        "color": "#2a3f5f"
                      }
                    },
                    "ternary": {
                      "aaxis": {
                        "gridcolor": "white",
                        "linecolor": "white",
                        "ticks": ""
                      },
                      "baxis": {
                        "gridcolor": "white",
                        "linecolor": "white",
                        "ticks": ""
                      },
                      "bgcolor": "#E5ECF6",
                      "caxis": {
                        "gridcolor": "white",
                        "linecolor": "white",
                        "ticks": ""
                      }
                    },
                    "title": {
                      "x": 0.05
                    },
                    "xaxis": {
                      "automargin": true,
                      "gridcolor": "white",
                      "linecolor": "white",
                      "ticks": "",
                      "title": {
                        "standoff": 15
                      },
                      "zerolinecolor": "white",
                      "zerolinewidth": 2
                    },
                    "yaxis": {
                      "automargin": true,
                      "gridcolor": "white",
                      "linecolor": "white",
                      "ticks": "",
                      "title": {
                        "standoff": 15
                      },
                      "zerolinecolor": "white",
                      "zerolinewidth": 2
                    }
                  }
                }
              }
            }
          },
          "metadata": {},
          "output_type": "display_data"
        }
      ],
      "source": [
        "candle = 85\n",
        "backcandles = 40\n",
        "window = 3\n",
        "\n",
        "#dfpl = df[candle-backcandles-window-5:candle+200]\n",
        "\n",
        "fig = go.Figure(data=[go.Candlestick(x=dfpl.index,\n",
        "                open=dfpl['Open'],\n",
        "                high=dfpl['High'],\n",
        "                low=dfpl['Low'],\n",
        "                close=dfpl['Close'])])\n",
        "\n",
        "fig.add_scatter(x=dfpl.index, y=dfpl['pointpos'], mode=\"markers\",\n",
        "                marker=dict(size=5, color=\"MediumPurple\"),\n",
        "                name=\"pivot\")\n",
        "\n",
        "sl_lows, interc_lows, sl_highs, interc_highs, r_sq_l, r_sq_h = collect_channel(candle, backcandles, window)\n",
        "print(r_sq_l, r_sq_h)\n",
        "x = np.array(range(candle-backcandles-window, candle+1))\n",
        "fig.add_trace(go.Scatter(x=x, y=sl_lows*x + interc_lows, mode='lines', name='lower slope'))\n",
        "fig.add_trace(go.Scatter(x=x, y=sl_highs*x + interc_highs, mode='lines', name='max slope'))\n",
        "#fig.update_layout(xaxis_rangeslider_visible=False)\n",
        "fig.show()"
      ]
    },
    {
      "cell_type": "markdown",
      "id": "57b58755",
      "metadata": {
        "id": "57b58755"
      },
      "source": [
        "## Detect Break Out"
      ]
    },
    {
      "cell_type": "code",
      "execution_count": 14,
      "id": "57028e27",
      "metadata": {
        "id": "57028e27"
      },
      "outputs": [],
      "source": [
        "def isBreakOut(candle, backcandles, window):\n",
        "    if (candle-backcandles-window)<0:\n",
        "        return 0\n",
        "\n",
        "    sl_lows, interc_lows, sl_highs, interc_highs, r_sq_l, r_sq_h = collect_channel(candle,\n",
        "                                                                                   backcandles,\n",
        "                                                                                   window)\n",
        "\n",
        "    prev_idx = candle-1\n",
        "    prev_high = df.iloc[candle-1].High\n",
        "    prev_low = df.iloc[candle-1].Low\n",
        "    prev_close = df.iloc[candle-1].Close\n",
        "\n",
        "    curr_idx = candle\n",
        "    curr_high = df.iloc[candle].High\n",
        "    curr_low = df.iloc[candle].Low\n",
        "    curr_close = df.iloc[candle].Close\n",
        "    curr_open = df.iloc[candle].Open\n",
        "\n",
        "    if ( prev_high > (sl_lows*prev_idx + interc_lows) and\n",
        "        prev_close < (sl_lows*prev_idx + interc_lows) and\n",
        "        curr_open < (sl_lows*curr_idx + interc_lows) and\n",
        "        curr_close < (sl_lows*prev_idx + interc_lows)): #and r_sq_l > 0.9\n",
        "        return 1\n",
        "\n",
        "    elif ( prev_low < (sl_highs*prev_idx + interc_highs) and\n",
        "        prev_close > (sl_highs*prev_idx + interc_highs) and\n",
        "        curr_open > (sl_highs*curr_idx + interc_highs) and\n",
        "        curr_close > (sl_highs*prev_idx + interc_highs)): #and r_sq_h > 0.9\n",
        "        return 2\n",
        "\n",
        "    else:\n",
        "        return 0"
      ]
    },
    {
      "cell_type": "code",
      "execution_count": 15,
      "id": "3adc64f8",
      "metadata": {
        "colab": {
          "base_uri": "https://localhost:8080/"
        },
        "id": "3adc64f8",
        "outputId": "bafd809f-5e9a-4d98-a2f0-5c2bfc8602ff"
      },
      "outputs": [
        {
          "name": "stderr",
          "output_type": "stream",
          "text": [
            "/tmp/ipykernel_549211/1638216254.py:3: SettingWithCopyWarning:\n",
            "\n",
            "\n",
            "A value is trying to be set on a copy of a slice from a DataFrame.\n",
            "Try using .loc[row_indexer,col_indexer] = value instead\n",
            "\n",
            "See the caveats in the documentation: https://pandas.pydata.org/pandas-docs/stable/user_guide/indexing.html#returning-a-view-versus-a-copy\n",
            "\n",
            "/tmp/ipykernel_549211/577694604.py:13: SettingWithCopyWarning:\n",
            "\n",
            "\n",
            "A value is trying to be set on a copy of a slice from a DataFrame.\n",
            "Try using .loc[row_indexer,col_indexer] = value instead\n",
            "\n",
            "See the caveats in the documentation: https://pandas.pydata.org/pandas-docs/stable/user_guide/indexing.html#returning-a-view-versus-a-copy\n",
            "\n",
            "/tmp/ipykernel_549211/577694604.py:14: SettingWithCopyWarning:\n",
            "\n",
            "\n",
            "A value is trying to be set on a copy of a slice from a DataFrame.\n",
            "Try using .loc[row_indexer,col_indexer] = value instead\n",
            "\n",
            "See the caveats in the documentation: https://pandas.pydata.org/pandas-docs/stable/user_guide/indexing.html#returning-a-view-versus-a-copy\n",
            "\n"
          ]
        }
      ],
      "source": [
        "def breakpointpos(x):\n",
        "    if x['isBreakOut']==2:\n",
        "        return x['Low']-3e-3\n",
        "    elif x['isBreakOut']==1:\n",
        "        return x['High']+3e-3\n",
        "    else:\n",
        "        return np.nan\n",
        "\n",
        "candle = 75\n",
        "backcandles = 40\n",
        "window = 3\n",
        "dfpl = df[candle-backcandles-window-5:candle+20]\n",
        "dfpl[\"isBreakOut\"] = [isBreakOut(candle, backcandles, window) for candle in dfpl.index]\n",
        "dfpl['breakpointpos'] = dfpl.apply(lambda row: breakpointpos(row), axis=1)"
      ]
    },
    {
      "cell_type": "code",
      "execution_count": 16,
      "id": "a6b5b35f",
      "metadata": {
        "colab": {
          "base_uri": "https://localhost:8080/",
          "height": 698
        },
        "id": "a6b5b35f",
        "outputId": "297a42ba-489d-453e-e744-0a970eaabaf8"
      },
      "outputs": [
        {
          "name": "stdout",
          "output_type": "stream",
          "text": [
            "1.0 0.5525995544506749\n"
          ]
        },
        {
          "name": "stderr",
          "output_type": "stream",
          "text": [
            "/tmp/ipykernel_549211/1638216254.py:3: SettingWithCopyWarning:\n",
            "\n",
            "\n",
            "A value is trying to be set on a copy of a slice from a DataFrame.\n",
            "Try using .loc[row_indexer,col_indexer] = value instead\n",
            "\n",
            "See the caveats in the documentation: https://pandas.pydata.org/pandas-docs/stable/user_guide/indexing.html#returning-a-view-versus-a-copy\n",
            "\n"
          ]
        },
        {
          "data": {
            "application/vnd.plotly.v1+json": {
              "config": {
                "plotlyServerURL": "https://plot.ly"
              },
              "data": [
                {
                  "close": {
                    "bdata": "toR80LPZ8j/i5H6HosDyP5iG4SNiyvI/Z7gBnx/G8j/Ed2LWi6HyPzYf14aK8fI/umbyzTa38j+6ZvLNNrfyP9atnpPet/I/eUDZlCu88j/l7QinBa/yP1ZI+Um1z/I/huY6jbTU8j8HCObo8fvyPwcI5ujx+/I//+cwX14A8z/xETElkujyP9HLKJZb2vI/cLGiBtOw8j/ulA7W/7nyP+PfZ1w4kPI/499nXDiQ8j/wp8ZLN4nyPwpoImx4evI/MPDce7hk8j+FfNCzWXXyP2aIY13cRvI/flcE/1tJ8j9+VwT/W0nyPyyazk4GR/I/dc3km21u8j+syr4rgn/yP6abxCCwcvI/pSxDHOti8j9Q3zKny2LyP1DfMqfLYvI/uMzpsphY8j+wIM1YNB3yPwtGJXUCGvI/3nahuU4j8j94uYjvxCzyP0F9y5wuC/I/QX3LnC4L8j/r/xzmywvyP7gBnx9GCPI/NrBVgsXh8T9mvRjKifbxP2ItPgXA+PE/gnNGlPYG8j+Cc0aU9gbyP64q+64I/vE/GH0FacYi8j8fhetRuB7yP+XyH9JvX/I/7lpCPuhZ8j8niLoPQGryPyeIug9AavI/MPDce7hk8j85KGGm7V/yP671RUJbTvI/gPEMGvon8j8m32xzY/rxP9RgGoaPCPI/1GAaho8I8j8Plxx3SgfyP2ACt+7mKfI/YXE486s58j/B/1ayYyPyPw==",
                    "dtype": "f8"
                  },
                  "high": {
                    "bdata": "toR80LPZ8j/S+8bXntnyP8AEbt3N0/I/DkqYafvX8j9eaK7TSMvyP2q8dJMYBPM/xuHMr+YA8z+6ZvLNNrfyPwZkr3d/vPI/e0563/ja8j9iEFg5tMjyP0XY8PRK2fI/wqONI9bi8j+OI9biUwDzPwcI5ujx+/I//+cwX14A8z/bp+MxAxXzP3nMQGX8+/I//cHAc+/h8j/zk2qfjsfyP6Cmlq31xfI/499nXDiQ8j86deWzPI/yP/8+48KBkPI/LA5nfjWH8j+dEaW9wZfyPyuHFtnOd/I/m1Wfq61Y8j9+VwT/W0nyPyNKe4MvTPI/iPTb14Fz8j81tWytL5LyPxn/PuPCgfI/Sl6dY0B28j+k/KTap2PyP1DfMqfLYvI/3zKny2Ji8j8L0oxF01nyP0bT2cngKPI/yXa+nxov8j8LDFnd6jnyPwXdXtIYLfI/QX3LnC4L8j/BqKROQBPyPyxlGeJYF/I/F2U2yCQj8j9kXdxGA/jxP8lZ2NMO//E/2o8UkWEV8j+Cc0aU9gbyP7jpz36kCPI/z2bV52or8j/EzhQ6rzHyP21Wfa62YvI/0jqqmiBq8j9EboYb8HnyPyeIug9AavI/V5V9VwR/8j/MYmLzcW3yP4V80LNZdfI/UaBP5ElS8j92ieqtgS3yP7Hh6ZWyDPI/1GAaho8I8j8d5ssLsA/yPxjshm2LMvI/eUDZlCs88j9I4XoUrkfyPw==",
                    "dtype": "f8"
                  },
                  "low": {
                    "bdata": "toR80LPZ8j97oBUYsrryP2uCqPsApPI/pics8YCy8j8jFcYWgpzyP9E/wcWKmvI/xebj2lCx8j+6ZvLNNrfyPzaTb7a5sfI/9kVCW86l8j/whclUwajyPy3saYe/pvI/mnecoiO58j/ZfFwbKsbyPwcI5ujx+/I/Yi0+BcD48j9mZmZmZubyP09AE2HD0/I/1T4djxmo8j9HPUSjO4jyP+3YCMTrevI/499nXDiQ8j9s7BLVW4PyPwxZ3eo5afI/XI/C9Shc8j9rDhDM0WPyP+CcEaW9QfI/IsMq3sg88j9+VwT/W0nyP6HWNO84RfI/QGoTJ/c78j9j7lpCPmjyP/JBz2bVZ/I/mIbhI2JK8j9xj6UPXVDyP1DfMqfLYvI/3qtWJvxS8j+dEaW9wRfyPzMWTWcnA/I/9u6P96oV8j/V52or9hfyP2FUUiegCfI/QX3LnC4L8j8Rx7q4jQbyPwfwFkhQ/PE/DAIrhxbZ8T/zqzlAMMfxP7ecS3FV2fE/HuG04EXf8T+Cc0aU9gbyP69amfBL/fE/Bwjm6PH78T+fceFASBbyP+/+eK9aGfI/9dvXgXNG8j8CK4cW2U7yPyeIug9AavI/Qni0ccRa8j81KQXdXlLyP0ax3NJqSPI/NQwfEVMi8j+GrG71nPTxP+NTAIxn0PE/1GAaho8I8j++wRcmUwXyP20csRafAvI/ER5tHLEW8j/KT6p9Oh7yPw==",
                    "dtype": "f8"
                  },
                  "open": {
                    "bdata": "toR80LPZ8j8MAiuHFtnyP42XbhKDwPI/RYE+kSfJ8j+hvmVOl8XyP4uJzce1ofI/jIS2nEvx8j+6ZvLNNrfyP4F4Xb9gt/I/KxN+qZ+38j9d4V0u4rvyP+cdp+hIrvI/AiuHFtnO8j8VUn5S7dPyPwcI5ujx+/I/XD0nvW/88j/G+ZtQiADzP/ERMSWS6PI/fa62Yn/Z8j//7EeKyLDyP0USvYxiufI/499nXDiQ8j/q501FKozyPw034PPDiPI/Jt9sc2N68j8w2A3bFmXyP7+CNGPRdPI/10y+2eZG8j9+VwT/W0nyP5vmHafoSPI/gv+tZMdG8j+to6oJom7yP8lxp3SwfvI/p8tiYvNx8j+ndLD+z2HyP1DfMqfLYvI/3zKny2Ji8j/y6hwDslfyP1q77UJzHfI/XkvIBz0b8j8z3IDPDyPyP0JD/wQXK/I/QX3LnC4L8j9BfcucLgvyP5fK2xFOC/I/Rz1EozsI8j+ndLD+z+HxP9rJ4Ch59fE/KCfaVUj58T+Cc0aU9gbyP9fAVgkWB/I/6DBfXoD98T9Ty9b6IiHyP5KRs7CnHfI/OShhpu1f8j/woq8gzVjyPyeIug9AavI/WMUbmUd+8j9Ol8XE5mPyP6rU7IFWYPI/WKg1zTtO8j+bIOo+ACnyP2Dl0CLb+fE/1GAaho8I8j/sL7snDwvyP2X8+4wLB/I/KCzxgLIp8j+cvwmFCDjyPw==",
                    "dtype": "f8"
                  },
                  "type": "candlestick",
                  "x": {
                    "bdata": "GxwdHh8gISIjJCUmJygpKissLS4vMDEyMzQ1Njc4OTo7PD0+P0BBQkNERUZHSElKS0xNTk9QUVJTVFVWV1hZWltcXV4=",
                    "dtype": "i1"
                  }
                },
                {
                  "marker": {
                    "color": "MediumPurple",
                    "size": 5
                  },
                  "mode": "markers",
                  "name": "pivot",
                  "type": "scatter",
                  "x": {
                    "bdata": "GxwdHh8gISIjJCUmJygpKissLS4vMDEyMzQ1Njc4OTo7PD0+P0BBQkNERUZHSElKS0xNTk9QUVJTVFVWV1hZWltcXV4=",
                    "dtype": "i1"
                  },
                  "y": {
                    "bdata": "AAAAAAAA+H8AAAAAAAD4fwAAAAAAAPh/AAAAAAAA+H8AAAAAAAD4fwAAAAAAAPh/AAAAAAAA+H8AAAAAAAD4fwAAAAAAAPh/jInNx7Wh8j8AAAAAAAD4fwAAAAAAAPh/AAAAAAAA+H8AAAAAAAD4fwAAAAAAAPh/AAAAAAAA+H9FZFjFGxnzPwAAAAAAAPh/AAAAAAAA+H8AAAAAAAD4fwAAAAAAAPh/AAAAAAAA+H8AAAAAAAD4fwAAAAAAAPh/AAAAAAAA+H8HzhlR2pvyPwAAAAAAAPh/AAAAAAAA+H8AAAAAAAD4fwAAAAAAAPh/1q2ek9438j+fceFASJbyPwAAAAAAAPh/AAAAAAAA+H8AAAAAAAD4fwAAAAAAAPh/AAAAAAAA+H8AAAAAAAD4f8lZ2NMO//E/AAAAAAAA+H8AAAAAAAD4fwAAAAAAAPh/AAAAAAAA+H8AAAAAAAD4fwAAAAAAAPh/gSGrWz0n8j+J78SsF8PxPwAAAAAAAPh/AAAAAAAA+H8AAAAAAAD4fwAAAAAAAPh/AAAAAAAA+H8AAAAAAAD4fwAAAAAAAPh/AAAAAAAA+H8AAAAAAAD4fwAAAAAAAPh/wVHy6hyD8j8AAAAAAAD4fwAAAAAAAPh/AAAAAAAA+H8AAAAAAAD4f3mXi/hOzPE/AAAAAAAA+H8AAAAAAAD4fwAAAAAAAPh/AAAAAAAA+H+yne+nxkvyPw==",
                    "dtype": "f8"
                  }
                },
                {
                  "marker": {
                    "color": "Black",
                    "size": 8,
                    "symbol": "hexagram"
                  },
                  "mode": "markers",
                  "name": "pivot",
                  "type": "scatter",
                  "x": {
                    "bdata": "GxwdHh8gISIjJCUmJygpKissLS4vMDEyMzQ1Njc4OTo7PD0+P0BBQkNERUZHSElKS0xNTk9QUVJTVFVWV1hZWltcXV4=",
                    "dtype": "i1"
                  },
                  "y": {
                    "bdata": "AAAAAAAA+H8AAAAAAAD4fwAAAAAAAPh/AAAAAAAA+H8AAAAAAAD4fwAAAAAAAPh/AAAAAAAA+H8AAAAAAAD4fwAAAAAAAPh/AAAAAAAA+H8AAAAAAAD4fwAAAAAAAPh/AAAAAAAA+H8AAAAAAAD4fwAAAAAAAPh/AAAAAAAA+H8AAAAAAAD4fwAAAAAAAPh/PPceLjnu8j8AAAAAAAD4fwAAAAAAAPh/AAAAAAAA+H8AAAAAAAD4fwAAAAAAAPh/AAAAAAAA+H8AAAAAAAD4fwAAAAAAAPh/AAAAAAAA+H8AAAAAAAD4fwAAAAAAAPh/AAAAAAAA+H8AAAAAAAD4f1g0nZ0MjvI/AAAAAAAA+H8AAAAAAAD4fwAAAAAAAPh/AAAAAAAA+H8AAAAAAAD4f4UIOIQqNfI/AAAAAAAA+H8AAAAAAAD4fwAAAAAAAPh/AAAAAAAA+H8AAAAAAAD4fwAAAAAAAPh/AAAAAAAA+H8AAAAAAAD4fwAAAAAAAPh/36tWJvzS8T9DPujZrPrxPwAAAAAAAPh/AAAAAAAA+H8AAAAAAAD4fwAAAAAAAPh/AAAAAAAA+H8AAAAAAAD4fwAAAAAAAPh/AAAAAAAA+H8AAAAAAAD4fwAAAAAAAPh/AAAAAAAA+H8AAAAAAAD4fwAAAAAAAPh/AAAAAAAA+H8AAAAAAAD4fwAAAAAAAPh/AAAAAAAA+H8AAAAAAAD4fw==",
                    "dtype": "f8"
                  }
                },
                {
                  "mode": "lines",
                  "name": "lower slope",
                  "type": "scatter",
                  "x": {
                    "bdata": "EBESExQVFhcYGRobHB0eHyAhIiMkJSYnKCkqKywtLi8wMTIzNDU2Nzg5Ojs=",
                    "dtype": "i1"
                  },
                  "y": {
                    "bdata": "8qr607DA8j8Z2Ve0WL/yPz8HtZQAvvI/ZjUSdai88j+NY29VULvyP7ORzDX4ufI/2r8pFqC48j8B7ob2R7fyPycc5NbvtfI/TkpBt5e08j91eJ6XP7PyP5um+3fnsfI/wtRYWI+w8j/oArY4N6/yPw8xExnfrfI/Nl9w+Yas8j9cjc3ZLqvyP4O7KrrWqfI/qumHmn6o8j/QF+V6JqfyP/dFQlvOpfI/HnSfO3ak8j9EovwbHqPyP2vQWfzFofI/kf623G2g8j+4LBS9FZ/yP99acZ29nfI/BYnOfWWc8j8styteDZvyP1PliD61mfI/eRPmHl2Y8j+gQUP/BJfyP8dvoN+slfI/7Z39v1SU8j8UzFqg/JLyPzr6t4CkkfI/YSgVYUyQ8j+IVnJB9I7yP66EzyGcjfI/1bIsAkSM8j/84Ini64ryPyIP58KTifI/ST1EozuI8j9wa6GD44byPw==",
                    "dtype": "f8"
                  }
                },
                {
                  "mode": "lines",
                  "name": "max slope",
                  "type": "scatter",
                  "x": {
                    "bdata": "EBESExQVFhcYGRobHB0eHyAhIiMkJSYnKCkqKywtLi8wMTIzNDU2Nzg5Ojs=",
                    "dtype": "i1"
                  },
                  "y": {
                    "bdata": "v0SWAmZA8z+KUANfwzzzP1RccLsgOfM/HmjdF3418z/oc0p02zHzP7N/t9A4LvM/fYskLZYq8z9Hl5GJ8ybzPxGj/uVQI/M/265rQq4f8z+mutieCxzzP3DGRftoGPM/OtKyV8YU8z8E3h+0IxHzP8/pjBCBDfM/mfX5bN4J8z9jAWfJOwbzPy0N1CWZAvM/9xhBgvb+8j/CJK7eU/vyP4wwGzux9/I/VjyIlw708j8gSPXza/DyP+pTYlDJ7PI/tV/PrCbp8j9/azwJhOXyP0l3qWXh4fI/E4MWwj7e8j/ejoMenNryP6ia8Hr51vI/cqZd11bT8j88ssoztM/yPwa+N5ARzPI/0cmk7G7I8j+b1RFJzMTyP2XhfqUpwfI/L+3rAYe98j/6+Fhe5LnyP8QExrpBtvI/jhAzF5+y8j9YHKBz/K7yPyIoDdBZq/I/7TN6LLen8j+3P+eIFKTyPw==",
                    "dtype": "f8"
                  }
                }
              ],
              "layout": {
                "template": {
                  "data": {
                    "bar": [
                      {
                        "error_x": {
                          "color": "#2a3f5f"
                        },
                        "error_y": {
                          "color": "#2a3f5f"
                        },
                        "marker": {
                          "line": {
                            "color": "#E5ECF6",
                            "width": 0.5
                          },
                          "pattern": {
                            "fillmode": "overlay",
                            "size": 10,
                            "solidity": 0.2
                          }
                        },
                        "type": "bar"
                      }
                    ],
                    "barpolar": [
                      {
                        "marker": {
                          "line": {
                            "color": "#E5ECF6",
                            "width": 0.5
                          },
                          "pattern": {
                            "fillmode": "overlay",
                            "size": 10,
                            "solidity": 0.2
                          }
                        },
                        "type": "barpolar"
                      }
                    ],
                    "carpet": [
                      {
                        "aaxis": {
                          "endlinecolor": "#2a3f5f",
                          "gridcolor": "white",
                          "linecolor": "white",
                          "minorgridcolor": "white",
                          "startlinecolor": "#2a3f5f"
                        },
                        "baxis": {
                          "endlinecolor": "#2a3f5f",
                          "gridcolor": "white",
                          "linecolor": "white",
                          "minorgridcolor": "white",
                          "startlinecolor": "#2a3f5f"
                        },
                        "type": "carpet"
                      }
                    ],
                    "choropleth": [
                      {
                        "colorbar": {
                          "outlinewidth": 0,
                          "ticks": ""
                        },
                        "type": "choropleth"
                      }
                    ],
                    "contour": [
                      {
                        "colorbar": {
                          "outlinewidth": 0,
                          "ticks": ""
                        },
                        "colorscale": [
                          [
                            0,
                            "#0d0887"
                          ],
                          [
                            0.1111111111111111,
                            "#46039f"
                          ],
                          [
                            0.2222222222222222,
                            "#7201a8"
                          ],
                          [
                            0.3333333333333333,
                            "#9c179e"
                          ],
                          [
                            0.4444444444444444,
                            "#bd3786"
                          ],
                          [
                            0.5555555555555556,
                            "#d8576b"
                          ],
                          [
                            0.6666666666666666,
                            "#ed7953"
                          ],
                          [
                            0.7777777777777778,
                            "#fb9f3a"
                          ],
                          [
                            0.8888888888888888,
                            "#fdca26"
                          ],
                          [
                            1,
                            "#f0f921"
                          ]
                        ],
                        "type": "contour"
                      }
                    ],
                    "contourcarpet": [
                      {
                        "colorbar": {
                          "outlinewidth": 0,
                          "ticks": ""
                        },
                        "type": "contourcarpet"
                      }
                    ],
                    "heatmap": [
                      {
                        "colorbar": {
                          "outlinewidth": 0,
                          "ticks": ""
                        },
                        "colorscale": [
                          [
                            0,
                            "#0d0887"
                          ],
                          [
                            0.1111111111111111,
                            "#46039f"
                          ],
                          [
                            0.2222222222222222,
                            "#7201a8"
                          ],
                          [
                            0.3333333333333333,
                            "#9c179e"
                          ],
                          [
                            0.4444444444444444,
                            "#bd3786"
                          ],
                          [
                            0.5555555555555556,
                            "#d8576b"
                          ],
                          [
                            0.6666666666666666,
                            "#ed7953"
                          ],
                          [
                            0.7777777777777778,
                            "#fb9f3a"
                          ],
                          [
                            0.8888888888888888,
                            "#fdca26"
                          ],
                          [
                            1,
                            "#f0f921"
                          ]
                        ],
                        "type": "heatmap"
                      }
                    ],
                    "histogram": [
                      {
                        "marker": {
                          "pattern": {
                            "fillmode": "overlay",
                            "size": 10,
                            "solidity": 0.2
                          }
                        },
                        "type": "histogram"
                      }
                    ],
                    "histogram2d": [
                      {
                        "colorbar": {
                          "outlinewidth": 0,
                          "ticks": ""
                        },
                        "colorscale": [
                          [
                            0,
                            "#0d0887"
                          ],
                          [
                            0.1111111111111111,
                            "#46039f"
                          ],
                          [
                            0.2222222222222222,
                            "#7201a8"
                          ],
                          [
                            0.3333333333333333,
                            "#9c179e"
                          ],
                          [
                            0.4444444444444444,
                            "#bd3786"
                          ],
                          [
                            0.5555555555555556,
                            "#d8576b"
                          ],
                          [
                            0.6666666666666666,
                            "#ed7953"
                          ],
                          [
                            0.7777777777777778,
                            "#fb9f3a"
                          ],
                          [
                            0.8888888888888888,
                            "#fdca26"
                          ],
                          [
                            1,
                            "#f0f921"
                          ]
                        ],
                        "type": "histogram2d"
                      }
                    ],
                    "histogram2dcontour": [
                      {
                        "colorbar": {
                          "outlinewidth": 0,
                          "ticks": ""
                        },
                        "colorscale": [
                          [
                            0,
                            "#0d0887"
                          ],
                          [
                            0.1111111111111111,
                            "#46039f"
                          ],
                          [
                            0.2222222222222222,
                            "#7201a8"
                          ],
                          [
                            0.3333333333333333,
                            "#9c179e"
                          ],
                          [
                            0.4444444444444444,
                            "#bd3786"
                          ],
                          [
                            0.5555555555555556,
                            "#d8576b"
                          ],
                          [
                            0.6666666666666666,
                            "#ed7953"
                          ],
                          [
                            0.7777777777777778,
                            "#fb9f3a"
                          ],
                          [
                            0.8888888888888888,
                            "#fdca26"
                          ],
                          [
                            1,
                            "#f0f921"
                          ]
                        ],
                        "type": "histogram2dcontour"
                      }
                    ],
                    "mesh3d": [
                      {
                        "colorbar": {
                          "outlinewidth": 0,
                          "ticks": ""
                        },
                        "type": "mesh3d"
                      }
                    ],
                    "parcoords": [
                      {
                        "line": {
                          "colorbar": {
                            "outlinewidth": 0,
                            "ticks": ""
                          }
                        },
                        "type": "parcoords"
                      }
                    ],
                    "pie": [
                      {
                        "automargin": true,
                        "type": "pie"
                      }
                    ],
                    "scatter": [
                      {
                        "fillpattern": {
                          "fillmode": "overlay",
                          "size": 10,
                          "solidity": 0.2
                        },
                        "type": "scatter"
                      }
                    ],
                    "scatter3d": [
                      {
                        "line": {
                          "colorbar": {
                            "outlinewidth": 0,
                            "ticks": ""
                          }
                        },
                        "marker": {
                          "colorbar": {
                            "outlinewidth": 0,
                            "ticks": ""
                          }
                        },
                        "type": "scatter3d"
                      }
                    ],
                    "scattercarpet": [
                      {
                        "marker": {
                          "colorbar": {
                            "outlinewidth": 0,
                            "ticks": ""
                          }
                        },
                        "type": "scattercarpet"
                      }
                    ],
                    "scattergeo": [
                      {
                        "marker": {
                          "colorbar": {
                            "outlinewidth": 0,
                            "ticks": ""
                          }
                        },
                        "type": "scattergeo"
                      }
                    ],
                    "scattergl": [
                      {
                        "marker": {
                          "colorbar": {
                            "outlinewidth": 0,
                            "ticks": ""
                          }
                        },
                        "type": "scattergl"
                      }
                    ],
                    "scattermap": [
                      {
                        "marker": {
                          "colorbar": {
                            "outlinewidth": 0,
                            "ticks": ""
                          }
                        },
                        "type": "scattermap"
                      }
                    ],
                    "scattermapbox": [
                      {
                        "marker": {
                          "colorbar": {
                            "outlinewidth": 0,
                            "ticks": ""
                          }
                        },
                        "type": "scattermapbox"
                      }
                    ],
                    "scatterpolar": [
                      {
                        "marker": {
                          "colorbar": {
                            "outlinewidth": 0,
                            "ticks": ""
                          }
                        },
                        "type": "scatterpolar"
                      }
                    ],
                    "scatterpolargl": [
                      {
                        "marker": {
                          "colorbar": {
                            "outlinewidth": 0,
                            "ticks": ""
                          }
                        },
                        "type": "scatterpolargl"
                      }
                    ],
                    "scatterternary": [
                      {
                        "marker": {
                          "colorbar": {
                            "outlinewidth": 0,
                            "ticks": ""
                          }
                        },
                        "type": "scatterternary"
                      }
                    ],
                    "surface": [
                      {
                        "colorbar": {
                          "outlinewidth": 0,
                          "ticks": ""
                        },
                        "colorscale": [
                          [
                            0,
                            "#0d0887"
                          ],
                          [
                            0.1111111111111111,
                            "#46039f"
                          ],
                          [
                            0.2222222222222222,
                            "#7201a8"
                          ],
                          [
                            0.3333333333333333,
                            "#9c179e"
                          ],
                          [
                            0.4444444444444444,
                            "#bd3786"
                          ],
                          [
                            0.5555555555555556,
                            "#d8576b"
                          ],
                          [
                            0.6666666666666666,
                            "#ed7953"
                          ],
                          [
                            0.7777777777777778,
                            "#fb9f3a"
                          ],
                          [
                            0.8888888888888888,
                            "#fdca26"
                          ],
                          [
                            1,
                            "#f0f921"
                          ]
                        ],
                        "type": "surface"
                      }
                    ],
                    "table": [
                      {
                        "cells": {
                          "fill": {
                            "color": "#EBF0F8"
                          },
                          "line": {
                            "color": "white"
                          }
                        },
                        "header": {
                          "fill": {
                            "color": "#C8D4E3"
                          },
                          "line": {
                            "color": "white"
                          }
                        },
                        "type": "table"
                      }
                    ]
                  },
                  "layout": {
                    "annotationdefaults": {
                      "arrowcolor": "#2a3f5f",
                      "arrowhead": 0,
                      "arrowwidth": 1
                    },
                    "autotypenumbers": "strict",
                    "coloraxis": {
                      "colorbar": {
                        "outlinewidth": 0,
                        "ticks": ""
                      }
                    },
                    "colorscale": {
                      "diverging": [
                        [
                          0,
                          "#8e0152"
                        ],
                        [
                          0.1,
                          "#c51b7d"
                        ],
                        [
                          0.2,
                          "#de77ae"
                        ],
                        [
                          0.3,
                          "#f1b6da"
                        ],
                        [
                          0.4,
                          "#fde0ef"
                        ],
                        [
                          0.5,
                          "#f7f7f7"
                        ],
                        [
                          0.6,
                          "#e6f5d0"
                        ],
                        [
                          0.7,
                          "#b8e186"
                        ],
                        [
                          0.8,
                          "#7fbc41"
                        ],
                        [
                          0.9,
                          "#4d9221"
                        ],
                        [
                          1,
                          "#276419"
                        ]
                      ],
                      "sequential": [
                        [
                          0,
                          "#0d0887"
                        ],
                        [
                          0.1111111111111111,
                          "#46039f"
                        ],
                        [
                          0.2222222222222222,
                          "#7201a8"
                        ],
                        [
                          0.3333333333333333,
                          "#9c179e"
                        ],
                        [
                          0.4444444444444444,
                          "#bd3786"
                        ],
                        [
                          0.5555555555555556,
                          "#d8576b"
                        ],
                        [
                          0.6666666666666666,
                          "#ed7953"
                        ],
                        [
                          0.7777777777777778,
                          "#fb9f3a"
                        ],
                        [
                          0.8888888888888888,
                          "#fdca26"
                        ],
                        [
                          1,
                          "#f0f921"
                        ]
                      ],
                      "sequentialminus": [
                        [
                          0,
                          "#0d0887"
                        ],
                        [
                          0.1111111111111111,
                          "#46039f"
                        ],
                        [
                          0.2222222222222222,
                          "#7201a8"
                        ],
                        [
                          0.3333333333333333,
                          "#9c179e"
                        ],
                        [
                          0.4444444444444444,
                          "#bd3786"
                        ],
                        [
                          0.5555555555555556,
                          "#d8576b"
                        ],
                        [
                          0.6666666666666666,
                          "#ed7953"
                        ],
                        [
                          0.7777777777777778,
                          "#fb9f3a"
                        ],
                        [
                          0.8888888888888888,
                          "#fdca26"
                        ],
                        [
                          1,
                          "#f0f921"
                        ]
                      ]
                    },
                    "colorway": [
                      "#636efa",
                      "#EF553B",
                      "#00cc96",
                      "#ab63fa",
                      "#FFA15A",
                      "#19d3f3",
                      "#FF6692",
                      "#B6E880",
                      "#FF97FF",
                      "#FECB52"
                    ],
                    "font": {
                      "color": "#2a3f5f"
                    },
                    "geo": {
                      "bgcolor": "white",
                      "lakecolor": "white",
                      "landcolor": "#E5ECF6",
                      "showlakes": true,
                      "showland": true,
                      "subunitcolor": "white"
                    },
                    "hoverlabel": {
                      "align": "left"
                    },
                    "hovermode": "closest",
                    "mapbox": {
                      "style": "light"
                    },
                    "paper_bgcolor": "white",
                    "plot_bgcolor": "#E5ECF6",
                    "polar": {
                      "angularaxis": {
                        "gridcolor": "white",
                        "linecolor": "white",
                        "ticks": ""
                      },
                      "bgcolor": "#E5ECF6",
                      "radialaxis": {
                        "gridcolor": "white",
                        "linecolor": "white",
                        "ticks": ""
                      }
                    },
                    "scene": {
                      "xaxis": {
                        "backgroundcolor": "#E5ECF6",
                        "gridcolor": "white",
                        "gridwidth": 2,
                        "linecolor": "white",
                        "showbackground": true,
                        "ticks": "",
                        "zerolinecolor": "white"
                      },
                      "yaxis": {
                        "backgroundcolor": "#E5ECF6",
                        "gridcolor": "white",
                        "gridwidth": 2,
                        "linecolor": "white",
                        "showbackground": true,
                        "ticks": "",
                        "zerolinecolor": "white"
                      },
                      "zaxis": {
                        "backgroundcolor": "#E5ECF6",
                        "gridcolor": "white",
                        "gridwidth": 2,
                        "linecolor": "white",
                        "showbackground": true,
                        "ticks": "",
                        "zerolinecolor": "white"
                      }
                    },
                    "shapedefaults": {
                      "line": {
                        "color": "#2a3f5f"
                      }
                    },
                    "ternary": {
                      "aaxis": {
                        "gridcolor": "white",
                        "linecolor": "white",
                        "ticks": ""
                      },
                      "baxis": {
                        "gridcolor": "white",
                        "linecolor": "white",
                        "ticks": ""
                      },
                      "bgcolor": "#E5ECF6",
                      "caxis": {
                        "gridcolor": "white",
                        "linecolor": "white",
                        "ticks": ""
                      }
                    },
                    "title": {
                      "x": 0.05
                    },
                    "xaxis": {
                      "automargin": true,
                      "gridcolor": "white",
                      "linecolor": "white",
                      "ticks": "",
                      "title": {
                        "standoff": 15
                      },
                      "zerolinecolor": "white",
                      "zerolinewidth": 2
                    },
                    "yaxis": {
                      "automargin": true,
                      "gridcolor": "white",
                      "linecolor": "white",
                      "ticks": "",
                      "title": {
                        "standoff": 15
                      },
                      "zerolinecolor": "white",
                      "zerolinewidth": 2
                    }
                  }
                }
              }
            }
          },
          "metadata": {},
          "output_type": "display_data"
        }
      ],
      "source": [
        "candle = 59\n",
        "\n",
        "fig = go.Figure(data=[go.Candlestick(x=dfpl.index,\n",
        "                open=dfpl['Open'],\n",
        "                high=dfpl['High'],\n",
        "                low=dfpl['Low'],\n",
        "                close=dfpl['Close'])])\n",
        "\n",
        "fig.add_scatter(x=dfpl.index, y=dfpl['pointpos'], mode=\"markers\",\n",
        "                marker=dict(size=5, color=\"MediumPurple\"),\n",
        "                name=\"pivot\")\n",
        "\n",
        "fig.add_scatter(x=dfpl.index, y=dfpl['breakpointpos'], mode=\"markers\",\n",
        "                marker=dict(size=8, color=\"Black\"), marker_symbol=\"hexagram\",\n",
        "                name=\"pivot\")\n",
        "\n",
        "sl_lows, interc_lows, sl_highs, interc_highs, r_sq_l, r_sq_h = collect_channel(candle, backcandles, window)\n",
        "print(r_sq_l, r_sq_h)\n",
        "x = np.array(range(candle-backcandles-window, candle+1))\n",
        "fig.add_trace(go.Scatter(x=x, y=sl_lows*x + interc_lows, mode='lines', name='lower slope'))\n",
        "fig.add_trace(go.Scatter(x=x, y=sl_highs*x + interc_highs, mode='lines', name='max slope'))\n",
        "#fig.update_layout(xaxis_rangeslider_visible=False)\n",
        "fig.show()"
      ]
    },
    {
      "cell_type": "code",
      "execution_count": null,
      "id": "a477c63a",
      "metadata": {
        "id": "a477c63a"
      },
      "outputs": [],
      "source": []
    }
  ],
  "metadata": {
    "colab": {
      "provenance": []
    },
    "kernelspec": {
      "display_name": "market_oracle",
      "language": "python",
      "name": "python3"
    },
    "language_info": {
      "codemirror_mode": {
        "name": "ipython",
        "version": 3
      },
      "file_extension": ".py",
      "mimetype": "text/x-python",
      "name": "python",
      "nbconvert_exporter": "python",
      "pygments_lexer": "ipython3",
      "version": "3.12.9"
    }
  },
  "nbformat": 4,
  "nbformat_minor": 5
}
