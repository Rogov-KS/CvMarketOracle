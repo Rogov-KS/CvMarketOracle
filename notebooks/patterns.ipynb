{
 "cells": [
  {
   "cell_type": "markdown",
   "metadata": {},
   "source": [
    "# Ноутбук для cherry picking линии тренда"
   ]
  },
  {
   "cell_type": "code",
   "execution_count": null,
   "metadata": {},
   "outputs": [],
   "source": [
    "%load_ext autoreload\n",
    "%autoreload 2"
   ]
  },
  {
   "cell_type": "code",
   "execution_count": null,
   "metadata": {},
   "outputs": [],
   "source": [
    "import os\n",
    "import sys\n",
    "\n",
    "sys.path.append(os.path.dirname(os.getcwd()))\n",
    "# sys.path"
   ]
  },
  {
   "cell_type": "code",
   "execution_count": null,
   "metadata": {},
   "outputs": [],
   "source": [
    "from market_oracle_lib import hello\n",
    "from market_oracle_lib.data import t_bank, yfinance, apimoex\n",
    "from market_oracle_lib.data.data_funcs import (\n",
    "    create_data_loaders,\n",
    "    create_data_frames,\n",
    "    create_data_sets,\n",
    "    create_base_data_frames,\n",
    ")\n",
    "from market_oracle_lib.consts import RU_DEFAULT_SYMBOLS"
   ]
  },
  {
   "cell_type": "code",
   "execution_count": null,
   "metadata": {},
   "outputs": [],
   "source": [
    "import os\n",
    "from datetime import datetime, timedelta\n",
    "from dataclasses import dataclass\n",
    "from help_src.tg_bot.logger import get_logger\n",
    "from market_oracle_lib.data.t_bank import (\n",
    "    find_instrument_by_ticker, get_symbol_data\n",
    ")\n",
    "from help_src.patterns.src import add_pivot_column, collect_channel, visualize_data, refine_channel\n",
    "from help_src.patterns.src import PriceChannel\n",
    "from dataclasses import dataclass\n",
    "from help_src.gpt_api.perplexity_api import send_request as perp_send_request\n",
    "\n",
    "from market_oracle_lib.model import LSTMModel\n",
    "import torch\n",
    "from market_oracle_lib.data.data_funcs import prepare_data, FEATURE_COLS\n",
    "from market_oracle_lib.data import data_funcs\n",
    "from catboost import CatBoostRegressor\n",
    "from sklearn.preprocessing import MinMaxScaler, StandardScaler\n",
    "from help_src.tg_bot.services.tsf_predict_service import make_prod_predict_by_cbt\n",
    "\n",
    "from help_src.tg_bot.services.advice_service import (\n",
    "    get_formatted_pattern_advice,\n",
    "    get_formatted_semantic_advice_with_gpt,\n",
    "    get_formatted_time_series_forecast_advice\n",
    ")\n"
   ]
  },
  {
   "cell_type": "code",
   "execution_count": null,
   "metadata": {},
   "outputs": [],
   "source": [
    "with open(\"../.secret_env\", \"r\") as f:\n",
    "    T_TOKEN = f.read().strip().split(\"=\")[1]\n",
    "print(T_TOKEN)"
   ]
  },
  {
   "cell_type": "code",
   "execution_count": null,
   "metadata": {},
   "outputs": [],
   "source": []
  },
  {
   "cell_type": "markdown",
   "metadata": {},
   "source": [
    "## Подбираем хорошую картинку"
   ]
  },
  {
   "cell_type": "code",
   "execution_count": null,
   "metadata": {},
   "outputs": [],
   "source": [
    "ticker = \"YDEX\""
   ]
  },
  {
   "cell_type": "code",
   "execution_count": null,
   "metadata": {},
   "outputs": [],
   "source": [
    "data_df = get_symbol_data(\n",
    "    symbol=ticker,\n",
    "    token=T_TOKEN,\n",
    "    interval=\"1d\",\n",
    "    # start_date=\"2023-01-01\",\n",
    ")\n"
   ]
  },
  {
   "cell_type": "code",
   "execution_count": null,
   "metadata": {},
   "outputs": [],
   "source": [
    "data_df = data_df[data_df[\"Date\"] >= \"2025-01-01\"]\n",
    "data_df"
   ]
  },
  {
   "cell_type": "code",
   "execution_count": null,
   "metadata": {},
   "outputs": [],
   "source": [
    "window_val = 3\n",
    "data_df = add_pivot_column(data_df, window_val)\n",
    "\n",
    "candle = len(data_df) - 1\n",
    "backcandles = 60\n",
    "window = 3\n"
   ]
  },
  {
   "cell_type": "code",
   "execution_count": null,
   "metadata": {},
   "outputs": [],
   "source": [
    "price_channel = collect_channel(\n",
    "    df=data_df,\n",
    "    candle=candle,\n",
    "    backcandles=backcandles,\n",
    "    window=window\n",
    ")\n",
    "\n",
    "price_channel = refine_channel(price_channel, should_refine=True)"
   ]
  },
  {
   "cell_type": "code",
   "execution_count": null,
   "metadata": {},
   "outputs": [],
   "source": [
    "visualize_data(\n",
    "    df=data_df,\n",
    "    price_ch=price_channel,\n",
    "    candle=candle,\n",
    "    backcandles=backcandles,\n",
    "    window=window,\n",
    "    do_show=True,\n",
    "    title=f\"Ценовой канал для {ticker}\"\n",
    ")"
   ]
  },
  {
   "cell_type": "code",
   "execution_count": null,
   "metadata": {},
   "outputs": [],
   "source": []
  },
  {
   "cell_type": "code",
   "execution_count": null,
   "metadata": {},
   "outputs": [],
   "source": [
    "data_df\n",
    "data_df.to_csv(sep='|', index=False)"
   ]
  },
  {
   "cell_type": "markdown",
   "metadata": {},
   "source": [
    "## As in prod"
   ]
  },
  {
   "cell_type": "code",
   "execution_count": null,
   "metadata": {},
   "outputs": [],
   "source": [
    "advice_text = await get_formatted_pattern_advice(\n",
    "    ticker, T_TOKEN,\n",
    "    window_len=90,\n",
    "    # granularity=\"1h\",\n",
    "    img_dir=\"logs/\",\n",
    "    add_oscilators=[\"MACD\", \"SMA\", \"EMA\", \"RSI\"],\n",
    "    do_refine=True\n",
    ")\n",
    "\n",
    "# if advice_text.is_success and advice_text.image_path:\n",
    "#     await progress_message.delete()\n",
    "#     await bot.send_photo(\n",
    "#         chat_id=callback_query.message.chat.id,\n",
    "#         photo=FSInputFile(advice_text.image_path)\n",
    "#     )\n",
    "# else:\n",
    "#     await progress_message.edit_text(advice_text.error or \"Произошла ошибка\")\n"
   ]
  },
  {
   "cell_type": "code",
   "execution_count": null,
   "metadata": {},
   "outputs": [],
   "source": [
    "advice_text\n"
   ]
  },
  {
   "cell_type": "code",
   "execution_count": null,
   "metadata": {},
   "outputs": [],
   "source": [
    "import shutil\n",
    "\n",
    "# Удалить директорию и всё её содержимое\n",
    "shutil.rmtree(\"logs\")"
   ]
  },
  {
   "cell_type": "code",
   "execution_count": null,
   "metadata": {},
   "outputs": [],
   "source": []
  },
  {
   "cell_type": "code",
   "execution_count": null,
   "metadata": {},
   "outputs": [],
   "source": []
  },
  {
   "cell_type": "code",
   "execution_count": null,
   "metadata": {},
   "outputs": [],
   "source": []
  }
 ],
 "metadata": {
  "kernelspec": {
   "display_name": "market_oracle",
   "language": "python",
   "name": "python3"
  },
  "language_info": {
   "codemirror_mode": {
    "name": "ipython",
    "version": 3
   },
   "file_extension": ".py",
   "mimetype": "text/x-python",
   "name": "python",
   "nbconvert_exporter": "python",
   "pygments_lexer": "ipython3",
   "version": "3.12.9"
  }
 },
 "nbformat": 4,
 "nbformat_minor": 2
}
