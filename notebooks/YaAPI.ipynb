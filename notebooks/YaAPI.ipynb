{
 "cells": [
  {
   "cell_type": "markdown",
   "metadata": {},
   "source": [
    "# Ноутбук как пример взаимодействия с АПИ LLM и VLM моделей Yandex Cloud'а"
   ]
  },
  {
   "cell_type": "markdown",
   "metadata": {},
   "source": [
    "## Imports"
   ]
  },
  {
   "cell_type": "code",
   "execution_count": null,
   "metadata": {},
   "outputs": [],
   "source": [
    "%load_ext autoreload\n",
    "%autoreload 2"
   ]
  },
  {
   "cell_type": "code",
   "execution_count": null,
   "metadata": {},
   "outputs": [],
   "source": [
    "import os\n",
    "import sys\n",
    "\n",
    "sys.path.append(os.path.dirname(os.getcwd()))\n",
    "# sys.path"
   ]
  },
  {
   "cell_type": "code",
   "execution_count": null,
   "metadata": {},
   "outputs": [],
   "source": [
    "import pandas as pd"
   ]
  },
  {
   "cell_type": "code",
   "execution_count": null,
   "metadata": {},
   "outputs": [],
   "source": [
    "# from market_oracle_lib import hello\n",
    "# from market_oracle_lib.data import t_bank, yfinance, apimoex\n",
    "# from market_oracle_lib.data.data_funcs import (\n",
    "#     create_data_loaders,\n",
    "#     create_data_frames,\n",
    "#     create_data_sets,\n",
    "#     create_base_data_frames,\n",
    "# )\n",
    "# from market_oracle_lib.consts import RU_DEFAULT_SYMBOLS"
   ]
  },
  {
   "cell_type": "code",
   "execution_count": null,
   "metadata": {},
   "outputs": [],
   "source": [
    "import base64\n",
    "import json\n",
    "from pathlib import Path"
   ]
  },
  {
   "cell_type": "code",
   "execution_count": null,
   "metadata": {},
   "outputs": [],
   "source": [
    "from dotenv import load_dotenv\n",
    "import os\n",
    "\n",
    "load_dotenv()\n",
    "\n",
    "YA_TOKEN = os.getenv(\"YA_GPT_TOKEN\")\n",
    "YA_FOLDER_ID = os.getenv(\"YA_FOLDER_ID\")"
   ]
  },
  {
   "cell_type": "code",
   "execution_count": null,
   "metadata": {},
   "outputs": [],
   "source": [
    "print(f\"{YA_TOKEN=}\")\n",
    "print(f\"{YA_FOLDER_ID=}\")"
   ]
  },
  {
   "cell_type": "code",
   "execution_count": null,
   "metadata": {},
   "outputs": [],
   "source": [
    "from yandex_cloud_ml_sdk import YCloudML\n",
    "\n",
    "sdk = YCloudML(\n",
    "    folder_id=YA_FOLDER_ID,\n",
    "    auth=YA_TOKEN,\n",
    ")\n",
    "sdk"
   ]
  },
  {
   "cell_type": "markdown",
   "metadata": {},
   "source": [
    "## Пытаюсь содзать датасет в yandex-cloud"
   ]
  },
  {
   "cell_type": "code",
   "execution_count": null,
   "metadata": {},
   "outputs": [],
   "source": [
    "for dataset in sdk.datasets.list():\n",
    "    print(f\"List of existing datasets {dataset=}\")"
   ]
  },
  {
   "cell_type": "code",
   "execution_count": null,
   "metadata": {},
   "outputs": [],
   "source": [
    "with open(\"./ya_datasets/ex_template.json\", \"r\") as f:\n",
    "    ya_dataset = json.load(f)\n",
    "ya_dataset\n"
   ]
  },
  {
   "cell_type": "code",
   "execution_count": null,
   "metadata": {},
   "outputs": [],
   "source": [
    "# Чтение и кодирование изображения в base64\n",
    "image_path = Path(\"./logs/YDEX_price_channel_20250612_133159.png\")\n",
    "with open(image_path, \"rb\") as image_file:\n",
    "    encoded_image = base64.b64encode(image_file.read()).decode('utf-8')\n",
    "\n",
    "# Создание запроса в нужном формате\n",
    "vision_messages = {\n",
    "    \"request\": [{\n",
    "        \"role\": \"user\",\n",
    "        \"content\": [\n",
    "            {\n",
    "                \"type\": \"text\",\n",
    "                \"text\": \"Опиши, что происходит на графике и дай рекомендации по выставлению ордеров на бирже\"\n",
    "            },\n",
    "            {\n",
    "                \"type\": \"image\",\n",
    "                \"image\": encoded_image\n",
    "            }\n",
    "        ]\n",
    "    }]\n",
    "}\n",
    "\n",
    "# Сохранение запроса в файл\n",
    "with open(\"./ya_datasets/vlm_request_1.json\", \"w\", encoding=\"utf-8\") as f:\n",
    "    json.dump(vision_messages, f)\n",
    "\n",
    "print(json.dumps(vision_messages, indent=4))\n",
    "vision_messages"
   ]
  },
  {
   "cell_type": "code",
   "execution_count": null,
   "metadata": {},
   "outputs": [],
   "source": [
    "# Создаем датасет\n",
    "dataset_draft = sdk.datasets.draft_from_path(\n",
    "    task_type=\"ImageTextToTextGenerationRequest\",\n",
    "    path=\"./ya_datasets/vlm_request_1.json\",\n",
    "    upload_format=\"jsonlines\",\n",
    "    name=\"vlm_attempt_1\",\n",
    ")\n",
    "\n",
    "# Дождемся окончания загрузки данных и создания датасета\n",
    "operation = dataset_draft.upload_deferred()\n",
    "tuning_dataset = operation.wait()\n",
    "print(f\"new {tuning_dataset=}\")"
   ]
  },
  {
   "cell_type": "code",
   "execution_count": null,
   "metadata": {},
   "outputs": [],
   "source": [
    "dir(sdk.models)"
   ]
  },
  {
   "cell_type": "code",
   "execution_count": null,
   "metadata": {},
   "outputs": [],
   "source": [
    "model = sdk.models.completions('qwen2.5-vl-7b-instruct').configure(temperature=0.5, max_tokens=2000)\n",
    "print(f\"{tuning_dataset.id=}\")\n",
    "print(f\"{model=}\")\n",
    "# operation = model.run(tuning_dataset.id)"
   ]
  },
  {
   "cell_type": "code",
   "execution_count": null,
   "metadata": {},
   "outputs": [],
   "source": [
    "!pip install yandex-cloud-ml-sdk==0.9.0 -q"
   ]
  },
  {
   "cell_type": "code",
   "execution_count": null,
   "metadata": {},
   "outputs": [],
   "source": [
    "operation = model.batch.run_deferred(tuning_dataset.id)\n",
    "# operation = model.run_deferred(tuning_dataset.id)\n"
   ]
  },
  {
   "cell_type": "code",
   "execution_count": null,
   "metadata": {},
   "outputs": [],
   "source": [
    "resulting_dataset = operation.wait()"
   ]
  },
  {
   "cell_type": "code",
   "execution_count": null,
   "metadata": {},
   "outputs": [],
   "source": [
    "res = resulting_dataset.download(download_path=\"./logs\")"
   ]
  },
  {
   "cell_type": "code",
   "execution_count": null,
   "metadata": {},
   "outputs": [],
   "source": [
    "!pip install pyarrow"
   ]
  },
  {
   "cell_type": "code",
   "execution_count": null,
   "metadata": {},
   "outputs": [],
   "source": [
    "for line in resulting_dataset.read():\n",
    "    print(line['response'])"
   ]
  },
  {
   "cell_type": "code",
   "execution_count": null,
   "metadata": {},
   "outputs": [],
   "source": []
  },
  {
   "cell_type": "code",
   "execution_count": null,
   "metadata": {},
   "outputs": [],
   "source": [
    "# Установите OpenAI SDK с помощью pip\n",
    "# pip install openai\n",
    "import openai\n",
    "\n",
    "YANDEX_CLOUD_FOLDER = \"...\"\n",
    "YANDEX_CLOUD_API_KEY = \"...\"\n",
    "\n",
    "client = openai.OpenAI(\n",
    "    api_key=YANDEX_CLOUD_API_KEY,\n",
    "    base_url=\"https://llm.api.cloud.yandex.net/v1\"\n",
    ")\n",
    "\n",
    "client"
   ]
  },
  {
   "cell_type": "code",
   "execution_count": null,
   "metadata": {},
   "outputs": [],
   "source": [
    "response = client.chat.completions.create(\n",
    "    model=f\"gpt://{YANDEX_CLOUD_FOLDER}/yandexgpt/latest\",\n",
    "    messages=[\n",
    "        {\"role\": \"system\", \"content\": \"Ты очень умный ассистент.\"},\n",
    "        {\"role\": \"user\", \"content\": \"Что умеют большие языковые модели?\"}\n",
    "    ],\n",
    "    max_tokens=2000,\n",
    "    temperature=0.3,\n",
    "    stream=True\n",
    ")\n",
    "\n",
    "for chunk in response:\n",
    "    if chunk.choices[0].delta.content is not None:\n",
    "        print(chunk.choices[0].delta.content, end=\"\")\n"
   ]
  },
  {
   "cell_type": "code",
   "execution_count": null,
   "metadata": {},
   "outputs": [],
   "source": [
    "vision_messages"
   ]
  },
  {
   "cell_type": "code",
   "execution_count": null,
   "metadata": {},
   "outputs": [],
   "source": [
    "response = client.chat.completions.create(\n",
    "    model=f\"gpt://{YANDEX_CLOUD_FOLDER}/qwen2.5-vl/latest\",\n",
    "    messages=[vision_messages],\n",
    "    max_tokens=2000,\n",
    "    temperature=0.3,\n",
    "    stream=True\n",
    ")\n",
    "\n",
    "for chunk in response:\n",
    "    if chunk.choices[0].delta.content is not None:\n",
    "        print(chunk.choices[0].delta.content, end=\"\")\n"
   ]
  },
  {
   "cell_type": "code",
   "execution_count": null,
   "metadata": {},
   "outputs": [],
   "source": []
  },
  {
   "cell_type": "markdown",
   "metadata": {},
   "source": [
    "## LLM"
   ]
  },
  {
   "cell_type": "code",
   "execution_count": null,
   "metadata": {},
   "outputs": [],
   "source": [
    "perplex_ans = \"\"\"<p>Последние новости по компании <b>Норильский никель</b> включают в себя несколько важных событий и решений:</p>\n",
    "\n",
    "<p>В 2025 году компания объявила об итогах производственной деятельности за первый квартал, что указывает на восстановление после предыдущих проблем, включая пожар в 2022 году[1].</p>\n",
    "\n",
    "<p>Кроме того, <b>Норникель</b> активно сотрудничает с технологическими компаниями, такими как <b>Yandex B2B Tech</b>, для развития своих проектов[2].</p>\n",
    "\n",
    "<p>Совет директоров компании рекомендовал не выплачивать дивиденды по итогам прошлого года, что может быть связано с финансовой стратегией и приоритетом инвестиций в восстановление и развитие производства[3].</p>\n",
    "\n",
    "<p>В секторе добычи и переработки металлов <b>Норникель</b> планирует выпускать 3 тыс. тонн кобальта ежегодно, начиная с 2025 года, что является значительным шагом в восстановлении после пожара на одном из предприятий[5].</p>\n",
    "\n",
    "<p><i>Семантический анализ</i> показывает, что компания переживает период восстановления и развития, с акцентом на технологических инновациях и расширении производства. Однако решение о не выплате дивидендов может быть воспринято как временная мера для обеспечения стабильности и инвестиций в будущее.</p>\n",
    "\n",
    "<p>В целом, <b>фон компании</b> можно оценить как <b>нейтральный</b>, поскольку она переживает период восстановления и развития, но также сталкивается с финансовыми вызовами.</p>\"\"\"\n",
    "perplex_ans"
   ]
  },
  {
   "cell_type": "code",
   "execution_count": null,
   "metadata": {},
   "outputs": [],
   "source": [
    "system_prompt = \"\"\"Ты умный ассистент, которому нужно поправить ответ, который дал LLM.\n",
    "Ответ является текстом с html-тегами, который потом будет отправлен в телеграм.\n",
    "Ты должен исправить все ошибки в тексте, которые могут быть связаны с html-тегами.\n",
    "Допустимыми html-тегами являются:\n",
    "<b> - жирный текст\n",
    "<i> - курсив\n",
    "<s> - зачеркнутый текст\n",
    "<u> - подчеркнутый текст\n",
    "<a> - ссылка\n",
    "<code> - Моноширинный текст\n",
    "<pre> - мультистрочный моноширинный\n",
    "<blockquote> - блок цитаты\n",
    "\n",
    "Все остальные теги являются недопустимыми и должны быть удалены.\n",
    "Также если ты встречаешь markdown-разметку, например **, то её стоит заменить на html-теги <b> и </b>.\n",
    "В ответ просто пришли исправленный текст, никаких комментариев и пояснений.\n",
    "\"\"\"\n",
    "system_prompt"
   ]
  },
  {
   "cell_type": "code",
   "execution_count": null,
   "metadata": {},
   "outputs": [],
   "source": [
    "from __future__ import annotations\n",
    "from yandex_cloud_ml_sdk import YCloudML\n",
    "\n",
    "messages = [\n",
    "    {\n",
    "        \"role\": \"system\",\n",
    "        \"text\": system_prompt,\n",
    "    },\n",
    "    {\n",
    "        \"role\": \"user\",\n",
    "        \"text\": f\"Ответ LLM, который нужно исправить:\\n{perplex_ans}\",\n",
    "    },\n",
    "]"
   ]
  },
  {
   "cell_type": "code",
   "execution_count": null,
   "metadata": {},
   "outputs": [],
   "source": [
    "model = sdk.models.completions(\"yandexgpt\").configure(temperature=0.5)\n",
    "model"
   ]
  },
  {
   "cell_type": "code",
   "execution_count": null,
   "metadata": {},
   "outputs": [],
   "source": [
    "result = model.run_deferred(messages).wait()"
   ]
  },
  {
   "cell_type": "code",
   "execution_count": null,
   "metadata": {},
   "outputs": [],
   "source": [
    "for alternative in result:\n",
    "    print(alternative)\n"
   ]
  },
  {
   "cell_type": "code",
   "execution_count": null,
   "metadata": {},
   "outputs": [],
   "source": [
    "result.alternatives[0].text"
   ]
  },
  {
   "cell_type": "code",
   "execution_count": null,
   "metadata": {},
   "outputs": [],
   "source": [
    "alternative.text"
   ]
  },
  {
   "cell_type": "markdown",
   "metadata": {},
   "source": [
    "## VLM"
   ]
  },
  {
   "cell_type": "code",
   "execution_count": null,
   "metadata": {},
   "outputs": [],
   "source": [
    "sdk.models.completions(\"qwen2.5-vl\")"
   ]
  },
  {
   "cell_type": "code",
   "execution_count": null,
   "metadata": {},
   "outputs": [],
   "source": [
    "dir(sdk.models)"
   ]
  },
  {
   "cell_type": "code",
   "execution_count": null,
   "metadata": {},
   "outputs": [],
   "source": []
  }
 ],
 "metadata": {
  "kernelspec": {
   "display_name": "base",
   "language": "python",
   "name": "python3"
  },
  "language_info": {
   "codemirror_mode": {
    "name": "ipython",
    "version": 3
   },
   "file_extension": ".py",
   "mimetype": "text/x-python",
   "name": "python",
   "nbconvert_exporter": "python",
   "pygments_lexer": "ipython3",
   "version": "3.12.9"
  }
 },
 "nbformat": 4,
 "nbformat_minor": 2
}
