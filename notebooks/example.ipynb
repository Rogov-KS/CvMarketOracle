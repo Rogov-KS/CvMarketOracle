{
 "cells": [
  {
   "cell_type": "markdown",
   "metadata": {},
   "source": [
    "## Imports"
   ]
  },
  {
   "cell_type": "code",
   "execution_count": null,
   "metadata": {},
   "outputs": [],
   "source": [
    "%load_ext autoreload\n",
    "%autoreload 2"
   ]
  },
  {
   "cell_type": "code",
   "execution_count": null,
   "metadata": {},
   "outputs": [],
   "source": [
    "import os\n",
    "import sys\n",
    "\n",
    "sys.path.append(os.path.dirname(os.getcwd()))\n",
    "# sys.path"
   ]
  },
  {
   "cell_type": "code",
   "execution_count": null,
   "metadata": {},
   "outputs": [],
   "source": [
    "import pandas as pd"
   ]
  },
  {
   "cell_type": "code",
   "execution_count": null,
   "metadata": {},
   "outputs": [],
   "source": [
    "from market_oracle_lib import hello\n",
    "from market_oracle_lib.data import t_bank, yfinance, apimoex\n",
    "from market_oracle_lib.data.data_funcs import (\n",
    "    create_data_loaders,\n",
    "    create_data_frames,\n",
    "    create_data_sets,\n",
    "    create_base_data_frames,\n",
    ")\n",
    "from market_oracle_lib.consts import RU_DEFAULT_SYMBOLS"
   ]
  },
  {
   "cell_type": "code",
   "execution_count": null,
   "metadata": {},
   "outputs": [],
   "source": [
    "with open(\"../.secret_env\", \"r\") as f:\n",
    "    T_TOKEN = f.read().strip().split(\"=\")[1]\n",
    "print(T_TOKEN)"
   ]
  },
  {
   "cell_type": "code",
   "execution_count": null,
   "metadata": {},
   "outputs": [],
   "source": [
    "hello()"
   ]
  },
  {
   "cell_type": "markdown",
   "metadata": {},
   "source": [
    "## Try to get data"
   ]
  },
  {
   "cell_type": "code",
   "execution_count": null,
   "metadata": {},
   "outputs": [],
   "source": [
    "# train_dl, val_dl, test_dl = create_data_loaders(yfinance.get_symbol_data, interval=\"1m\")"
   ]
  },
  {
   "cell_type": "code",
   "execution_count": null,
   "metadata": {},
   "outputs": [],
   "source": [
    "# train_dl, val_dl, test_dl = create_data_frames(yfinance.get_symbol_data, interval=\"1d\", period=\"max\")\n",
    "# train_dl\n",
    "# # next(iter(train_dl))[0].shape, next(iter(train_dl))[1].shape"
   ]
  },
  {
   "cell_type": "code",
   "execution_count": null,
   "metadata": {},
   "outputs": [],
   "source": []
  },
  {
   "cell_type": "code",
   "execution_count": null,
   "metadata": {},
   "outputs": [],
   "source": []
  },
  {
   "cell_type": "code",
   "execution_count": null,
   "metadata": {},
   "outputs": [],
   "source": [
    "train_dl, val_dl, test_dl = create_data_frames(apimoex.get_symbol_data,\n",
    "                                               interval=\"1d\",\n",
    "                                               symbols=RU_DEFAULT_SYMBOLS)"
   ]
  },
  {
   "cell_type": "code",
   "execution_count": null,
   "metadata": {},
   "outputs": [],
   "source": []
  },
  {
   "cell_type": "code",
   "execution_count": null,
   "metadata": {},
   "outputs": [],
   "source": []
  },
  {
   "cell_type": "code",
   "execution_count": null,
   "metadata": {},
   "outputs": [],
   "source": [
    "train_df, val_df, test_df = create_data_frames(t_bank.get_symbol_data, interval=\"1d\",\n",
    "                                               token=T_TOKEN,\n",
    "                                            #    start_date=\"2024-01-01\",\n",
    "                                            #    end_date=\"2024-09-02\",\n",
    "                                               symbols=RU_DEFAULT_SYMBOLS)\n",
    "# train_dl\n",
    "# next(iter(train_dl))[0].shape, next(iter(train_dl))[1].shape"
   ]
  },
  {
   "cell_type": "code",
   "execution_count": null,
   "metadata": {},
   "outputs": [],
   "source": [
    "train_df"
   ]
  },
  {
   "cell_type": "code",
   "execution_count": null,
   "metadata": {},
   "outputs": [],
   "source": [
    "train_dl.iloc[0].values"
   ]
  },
  {
   "cell_type": "code",
   "execution_count": null,
   "metadata": {},
   "outputs": [],
   "source": [
    "train_dl.head()"
   ]
  },
  {
   "cell_type": "code",
   "execution_count": null,
   "metadata": {},
   "outputs": [],
   "source": [
    "apimoex.get_symbol_data(RU_DEFAULT_SYMBOLS[0], interval=\"1d\").sort_values(by=\"Date\", ascending=False)"
   ]
  },
  {
   "cell_type": "code",
   "execution_count": null,
   "metadata": {},
   "outputs": [],
   "source": [
    "t_bank.get_symbol_data(symbol=RU_DEFAULT_SYMBOLS[0], token=T_TOKEN,\n",
    "                        # start_date=\"2024-01-01\", end_date=\"2024-09-02\",\n",
    "                        interval=\"1d\").sort_values(by=\"Date\", ascending=False)"
   ]
  },
  {
   "cell_type": "code",
   "execution_count": null,
   "metadata": {},
   "outputs": [],
   "source": [
    "from tinkoff.invest import Client\n",
    "with Client(T_TOKEN) as client:\n",
    "    print(*client.instruments.shares().instruments, sep=\"\\n\")"
   ]
  },
  {
   "cell_type": "code",
   "execution_count": null,
   "metadata": {},
   "outputs": [],
   "source": [
    "# YNDX, POLY\n",
    "instrument_info = t_bank.find_instrument_by_ticker(\"SBER\", T_TOKEN)\n",
    "instrument_info"
   ]
  },
  {
   "cell_type": "code",
   "execution_count": null,
   "metadata": {},
   "outputs": [],
   "source": [
    "# Получаем данные\n",
    "df = t_bank.get_symbol_data(\"SBER\", token=T_TOKEN)\n",
    "df"
   ]
  },
  {
   "cell_type": "code",
   "execution_count": null,
   "metadata": {},
   "outputs": [],
   "source": [
    "from datetime import datetime, timedelta, timezone\n",
    "from tinkoff.invest import Client, CandleInterval\n",
    "from tinkoff.invest.schemas import CandleSource\n",
    "from tinkoff.invest.utils import quotation_to_decimal\n",
    "\n",
    "with Client(T_TOKEN) as client:\n",
    "    # Получаем исторические данные по FIGI\n",
    "    data = []\n",
    "    for candle in client.get_all_candles(\n",
    "        instrument_id=instrument_info[\"figi\"],\n",
    "        from_=datetime.now(timezone.utc) - timedelta(days=365),\n",
    "        interval=CandleInterval.CANDLE_INTERVAL_HOUR,\n",
    "        candle_source_type=CandleSource.CANDLE_SOURCE_UNSPECIFIED,\n",
    "    ):\n",
    "        data.append({\n",
    "            'Date': candle.time,\n",
    "            'Open': float(quotation_to_decimal(candle.open)),\n",
    "            'High': float(quotation_to_decimal(candle.high)),\n",
    "            'Low': float(quotation_to_decimal(candle.low)),\n",
    "            'Close': float(quotation_to_decimal(candle.close)),\n",
    "            'Volume': candle.volume,\n",
    "        })"
   ]
  },
  {
   "cell_type": "code",
   "execution_count": null,
   "metadata": {},
   "outputs": [],
   "source": [
    "pd.DataFrame(data)"
   ]
  },
  {
   "cell_type": "code",
   "execution_count": null,
   "metadata": {},
   "outputs": [],
   "source": [
    "# Пример получения технических индикаторов\n",
    "pd.DataFrame(t_bank.get_indicators(instrument_info, T_TOKEN))"
   ]
  },
  {
   "cell_type": "code",
   "execution_count": null,
   "metadata": {},
   "outputs": [],
   "source": [
    "from tinkoff.invest.services import MarketDataService\n",
    "from datetime import datetime, timedelta, timezone\n",
    "from tinkoff.invest.schemas import CandleSource, GetTechAnalysisRequest, IndicatorType, IndicatorInterval, TypeOfPrice, Deviation, Smoothing\n",
    "from tinkoff.invest import Client, CandleInterval\n",
    "\n",
    "with Client(T_TOKEN) as client:\n",
    "    market_data_service = client.market_data\n",
    "    req = GetTechAnalysisRequest(\n",
    "        indicator_type=IndicatorType.INDICATOR_TYPE_SMA,\n",
    "        instrument_uid=instrument_info[\"instrument\"].uid,\n",
    "        from_=datetime.now(timezone.utc) - timedelta(days=365),\n",
    "        to=datetime.now(timezone.utc),\n",
    "        interval=IndicatorInterval.INDICATOR_INTERVAL_ONE_DAY,  # Используем дневной интервал\n",
    "        type_of_price=TypeOfPrice.TYPE_OF_PRICE_CLOSE,\n",
    "        length=20,\n",
    "    )\n",
    "    res = market_data_service.get_tech_analysis(request=req)\n",
    "\n",
    "    print(*res.technical_indicators, sep=\"\\n\")"
   ]
  },
  {
   "cell_type": "code",
   "execution_count": null,
   "metadata": {},
   "outputs": [],
   "source": [
    "train_dl.tail()"
   ]
  },
  {
   "cell_type": "code",
   "execution_count": null,
   "metadata": {},
   "outputs": [],
   "source": [
    "print(*dir(client), sep=\"\\n\")"
   ]
  },
  {
   "cell_type": "code",
   "execution_count": null,
   "metadata": {},
   "outputs": [],
   "source": [
    "train_dl, val_dl, test_dl\n",
    "\n",
    "data_dir = os.path.join(os.getcwd(), \"../saved_data/\")\n",
    "train_dl.to_csv(data_dir + \"big_train_dl.csv\")\n",
    "# val_dl.to_csv(data_dir + \"val_dl3.csv\")\n",
    "# test_dl.to_csv(data_dir + \"test_dl3.csv\")\n",
    "# os.getcwd()"
   ]
  },
  {
   "cell_type": "code",
   "execution_count": null,
   "metadata": {},
   "outputs": [],
   "source": [
    "train_dl.head()"
   ]
  },
  {
   "cell_type": "markdown",
   "metadata": {},
   "source": [
    "## Train"
   ]
  },
  {
   "cell_type": "code",
   "execution_count": null,
   "metadata": {},
   "outputs": [],
   "source": [
    "import pytorch_lightning as pl\n",
    "from market_oracle_lib.model import LSTMModel\n",
    "\n",
    "# Создаем модель\n",
    "model = LSTMModel(\n",
    "    input_size=23,  # Размерность входных данных (количество признаков)\n",
    "    hidden_size=64,\n",
    "    num_layers=2,\n",
    "    output_size=1,  # Предсказываем одно значение\n",
    "    learning_rate=0.001\n",
    ")\n",
    "\n",
    "# Создаем тренер\n",
    "trainer = pl.Trainer(\n",
    "    max_epochs=5,\n",
    "    accelerator='auto',  # Автоматически определяет доступное устройство (CPU/GPU)\n",
    "    devices=1,\n",
    "    enable_progress_bar=True,\n",
    "    enable_model_summary=True,\n",
    ")\n",
    "\n",
    "# Обучаем модель\n",
    "trainer.fit(model, train_dl, val_dl)\n",
    "\n",
    "# Оцениваем на тестовых данных\n",
    "test_results = trainer.test(model, test_dl)\n",
    "print(f\"Test results: {test_results}\")"
   ]
  },
  {
   "cell_type": "markdown",
   "metadata": {},
   "source": [
    "## Validate"
   ]
  },
  {
   "cell_type": "code",
   "execution_count": null,
   "metadata": {},
   "outputs": [],
   "source": [
    "from market_oracle_lib.validate import validate_and_visualize\n",
    "\n",
    "validate_and_visualize(model, test_dl)"
   ]
  },
  {
   "cell_type": "code",
   "execution_count": null,
   "metadata": {},
   "outputs": [],
   "source": []
  }
 ],
 "metadata": {
  "kernelspec": {
   "display_name": "market_oracle",
   "language": "python",
   "name": "python3"
  },
  "language_info": {
   "codemirror_mode": {
    "name": "ipython",
    "version": 3
   },
   "file_extension": ".py",
   "mimetype": "text/x-python",
   "name": "python",
   "nbconvert_exporter": "python",
   "pygments_lexer": "ipython3",
   "version": "3.12.9"
  }
 },
 "nbformat": 4,
 "nbformat_minor": 2
}
